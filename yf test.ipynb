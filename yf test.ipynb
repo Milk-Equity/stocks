{
 "cells": [
  {
   "cell_type": "code",
   "execution_count": 1,
   "id": "fd8e502d",
   "metadata": {},
   "outputs": [],
   "source": [
    "import yfinance as yf\n",
    "import pandas as pd \n",
    "import datetime as dt\n",
    "import matplotlib.pyplot as plt\n",
    "import plotly.express as px\n",
    "import plotly.graph_objects as go\n",
    "from plotly.subplots import make_subplots"
   ]
  },
  {
   "cell_type": "code",
   "execution_count": 2,
   "id": "4c9ea6e3",
   "metadata": {},
   "outputs": [],
   "source": [
    "msft = yf.Ticker(\"MSFT\")"
   ]
  },
  {
   "cell_type": "code",
   "execution_count": 3,
   "id": "00636604",
   "metadata": {},
   "outputs": [
    {
     "data": {
      "text/plain": [
       "yfinance.Ticker object <MSFT>"
      ]
     },
     "execution_count": 3,
     "metadata": {},
     "output_type": "execute_result"
    }
   ],
   "source": [
    "msft"
   ]
  },
  {
   "cell_type": "code",
   "execution_count": 4,
   "id": "140e973f",
   "metadata": {},
   "outputs": [
    {
     "name": "stdout",
     "output_type": "stream",
     "text": [
      "[*********************100%***********************]  1 of 1 completed\n"
     ]
    }
   ],
   "source": [
    "apple = yf.download(tickers= 'aapl',auto_adjust=True, period = '3Y')"
   ]
  },
  {
   "cell_type": "code",
   "execution_count": 5,
   "id": "efcff7e4",
   "metadata": {},
   "outputs": [
    {
     "data": {
      "text/plain": [
       "[<matplotlib.lines.Line2D at 0x2b5c026dc70>]"
      ]
     },
     "execution_count": 5,
     "metadata": {},
     "output_type": "execute_result"
    },
    {
     "data": {
      "image/png": "[encoded data removed]",
      "text/plain": [
       "<Figure size 432x288 with 1 Axes>"
      ]
     },
     "metadata": {
      "needs_background": "light"
     },
     "output_type": "display_data"
    }
   ],
   "source": [
    "plt.plot(apple.Volume)"
   ]
  },
  {
   "cell_type": "code",
   "execution_count": 6,
   "id": "7d883086",
   "metadata": {},
   "outputs": [
    {
     "data": {
      "text/html": [
       "<div>\n",
       "<style scoped>\n",
       "    .dataframe tbody tr th:only-of-type {\n",
       "        vertical-align: middle;\n",
       "    }\n",
       "\n",
       "    .dataframe tbody tr th {\n",
       "        vertical-align: top;\n",
       "    }\n",
       "\n",
       "    .dataframe thead th {\n",
       "        text-align: right;\n",
       "    }\n",
       "</style>\n",
       "<table border=\"1\" class=\"dataframe\">\n",
       "  <thead>\n",
       "    <tr style=\"text-align: right;\">\n",
       "      <th></th>\n",
       "      <th>Open</th>\n",
       "      <th>High</th>\n",
       "      <th>Low</th>\n",
       "      <th>Close</th>\n",
       "      <th>Volume</th>\n",
       "    </tr>\n",
       "    <tr>\n",
       "      <th>Date</th>\n",
       "      <th></th>\n",
       "      <th></th>\n",
       "      <th></th>\n",
       "      <th></th>\n",
       "      <th></th>\n",
       "    </tr>\n",
       "  </thead>\n",
       "  <tbody>\n",
       "    <tr>\n",
       "      <th>2018-12-04</th>\n",
       "      <td>43.915545</td>\n",
       "      <td>44.265025</td>\n",
       "      <td>42.779737</td>\n",
       "      <td>42.881668</td>\n",
       "      <td>165377200</td>\n",
       "    </tr>\n",
       "    <tr>\n",
       "      <th>2018-12-06</th>\n",
       "      <td>41.685180</td>\n",
       "      <td>42.418118</td>\n",
       "      <td>41.359970</td>\n",
       "      <td>42.403557</td>\n",
       "      <td>172393600</td>\n",
       "    </tr>\n",
       "    <tr>\n",
       "      <th>2018-12-07</th>\n",
       "      <td>42.105043</td>\n",
       "      <td>42.347737</td>\n",
       "      <td>40.845459</td>\n",
       "      <td>40.891571</td>\n",
       "      <td>169126400</td>\n",
       "    </tr>\n",
       "    <tr>\n",
       "      <th>2018-12-10</th>\n",
       "      <td>40.044566</td>\n",
       "      <td>41.279879</td>\n",
       "      <td>39.639267</td>\n",
       "      <td>41.160961</td>\n",
       "      <td>248104000</td>\n",
       "    </tr>\n",
       "    <tr>\n",
       "      <th>2018-12-11</th>\n",
       "      <td>41.660916</td>\n",
       "      <td>41.692464</td>\n",
       "      <td>40.529959</td>\n",
       "      <td>40.925552</td>\n",
       "      <td>189126800</td>\n",
       "    </tr>\n",
       "    <tr>\n",
       "      <th>...</th>\n",
       "      <td>...</td>\n",
       "      <td>...</td>\n",
       "      <td>...</td>\n",
       "      <td>...</td>\n",
       "      <td>...</td>\n",
       "    </tr>\n",
       "    <tr>\n",
       "      <th>2021-11-29</th>\n",
       "      <td>159.369995</td>\n",
       "      <td>161.190002</td>\n",
       "      <td>158.789993</td>\n",
       "      <td>160.240005</td>\n",
       "      <td>88748200</td>\n",
       "    </tr>\n",
       "    <tr>\n",
       "      <th>2021-11-30</th>\n",
       "      <td>159.990005</td>\n",
       "      <td>165.520004</td>\n",
       "      <td>159.919998</td>\n",
       "      <td>165.300003</td>\n",
       "      <td>174048100</td>\n",
       "    </tr>\n",
       "    <tr>\n",
       "      <th>2021-12-01</th>\n",
       "      <td>167.479996</td>\n",
       "      <td>170.300003</td>\n",
       "      <td>164.529999</td>\n",
       "      <td>164.770004</td>\n",
       "      <td>152052500</td>\n",
       "    </tr>\n",
       "    <tr>\n",
       "      <th>2021-12-02</th>\n",
       "      <td>158.740005</td>\n",
       "      <td>164.199997</td>\n",
       "      <td>157.800003</td>\n",
       "      <td>163.759995</td>\n",
       "      <td>136739200</td>\n",
       "    </tr>\n",
       "    <tr>\n",
       "      <th>2021-12-03</th>\n",
       "      <td>164.020004</td>\n",
       "      <td>164.960007</td>\n",
       "      <td>159.720001</td>\n",
       "      <td>161.839996</td>\n",
       "      <td>117938300</td>\n",
       "    </tr>\n",
       "  </tbody>\n",
       "</table>\n",
       "<p>756 rows × 5 columns</p>\n",
       "</div>"
      ],
      "text/plain": [
       "                  Open        High         Low       Close     Volume\n",
       "Date                                                                 \n",
       "2018-12-04   43.915545   44.265025   42.779737   42.881668  165377200\n",
       "2018-12-06   41.685180   42.418118   41.359970   42.403557  172393600\n",
       "2018-12-07   42.105043   42.347737   40.845459   40.891571  169126400\n",
       "2018-12-10   40.044566   41.279879   39.639267   41.160961  248104000\n",
       "2018-12-11   41.660916   41.692464   40.529959   40.925552  189126800\n",
       "...                ...         ...         ...         ...        ...\n",
       "2021-11-29  159.369995  161.190002  158.789993  160.240005   88748200\n",
       "2021-11-30  159.990005  165.520004  159.919998  165.300003  174048100\n",
       "2021-12-01  167.479996  170.300003  164.529999  164.770004  152052500\n",
       "2021-12-02  158.740005  164.199997  157.800003  163.759995  136739200\n",
       "2021-12-03  164.020004  164.960007  159.720001  161.839996  117938300\n",
       "\n",
       "[756 rows x 5 columns]"
      ]
     },
     "execution_count": 6,
     "metadata": {},
     "output_type": "execute_result"
    }
   ],
   "source": [
    "apple"
   ]
  },
  {
   "cell_type": "code",
   "execution_count": 11,
   "id": "e9c0ceb4",
   "metadata": {},
   "outputs": [],
   "source": [
    "apple2 = apple.Close - apple.Open / apple.Open* 100"
   ]
  },
  {
   "cell_type": "code",
   "execution_count": 13,
   "id": "e2f64813",
   "metadata": {},
   "outputs": [],
   "source": [
    "apple['Daily Change'] = apple['Close'] - apple['Open']"
   ]
  },
  {
   "cell_type": "code",
   "execution_count": 14,
   "id": "d279ce29",
   "metadata": {},
   "outputs": [
    {
     "data": {
      "text/html": [
       "<div>\n",
       "<style scoped>\n",
       "    .dataframe tbody tr th:only-of-type {\n",
       "        vertical-align: middle;\n",
       "    }\n",
       "\n",
       "    .dataframe tbody tr th {\n",
       "        vertical-align: top;\n",
       "    }\n",
       "\n",
       "    .dataframe thead th {\n",
       "        text-align: right;\n",
       "    }\n",
       "</style>\n",
       "<table border=\"1\" class=\"dataframe\">\n",
       "  <thead>\n",
       "    <tr style=\"text-align: right;\">\n",
       "      <th></th>\n",
       "      <th>Open</th>\n",
       "      <th>High</th>\n",
       "      <th>Low</th>\n",
       "      <th>Close</th>\n",
       "      <th>Volume</th>\n",
       "      <th>Daily Change</th>\n",
       "    </tr>\n",
       "    <tr>\n",
       "      <th>Date</th>\n",
       "      <th></th>\n",
       "      <th></th>\n",
       "      <th></th>\n",
       "      <th></th>\n",
       "      <th></th>\n",
       "      <th></th>\n",
       "    </tr>\n",
       "  </thead>\n",
       "  <tbody>\n",
       "    <tr>\n",
       "      <th>2018-12-04</th>\n",
       "      <td>43.915545</td>\n",
       "      <td>44.265025</td>\n",
       "      <td>42.779737</td>\n",
       "      <td>42.881668</td>\n",
       "      <td>165377200</td>\n",
       "      <td>-1.033877</td>\n",
       "    </tr>\n",
       "    <tr>\n",
       "      <th>2018-12-06</th>\n",
       "      <td>41.685180</td>\n",
       "      <td>42.418118</td>\n",
       "      <td>41.359970</td>\n",
       "      <td>42.403557</td>\n",
       "      <td>172393600</td>\n",
       "      <td>0.718377</td>\n",
       "    </tr>\n",
       "    <tr>\n",
       "      <th>2018-12-07</th>\n",
       "      <td>42.105043</td>\n",
       "      <td>42.347737</td>\n",
       "      <td>40.845459</td>\n",
       "      <td>40.891571</td>\n",
       "      <td>169126400</td>\n",
       "      <td>-1.213472</td>\n",
       "    </tr>\n",
       "    <tr>\n",
       "      <th>2018-12-10</th>\n",
       "      <td>40.044566</td>\n",
       "      <td>41.279879</td>\n",
       "      <td>39.639267</td>\n",
       "      <td>41.160961</td>\n",
       "      <td>248104000</td>\n",
       "      <td>1.116395</td>\n",
       "    </tr>\n",
       "    <tr>\n",
       "      <th>2018-12-11</th>\n",
       "      <td>41.660916</td>\n",
       "      <td>41.692464</td>\n",
       "      <td>40.529959</td>\n",
       "      <td>40.925552</td>\n",
       "      <td>189126800</td>\n",
       "      <td>-0.735364</td>\n",
       "    </tr>\n",
       "    <tr>\n",
       "      <th>...</th>\n",
       "      <td>...</td>\n",
       "      <td>...</td>\n",
       "      <td>...</td>\n",
       "      <td>...</td>\n",
       "      <td>...</td>\n",
       "      <td>...</td>\n",
       "    </tr>\n",
       "    <tr>\n",
       "      <th>2021-11-29</th>\n",
       "      <td>159.369995</td>\n",
       "      <td>161.190002</td>\n",
       "      <td>158.789993</td>\n",
       "      <td>160.240005</td>\n",
       "      <td>88748200</td>\n",
       "      <td>0.870010</td>\n",
       "    </tr>\n",
       "    <tr>\n",
       "      <th>2021-11-30</th>\n",
       "      <td>159.990005</td>\n",
       "      <td>165.520004</td>\n",
       "      <td>159.919998</td>\n",
       "      <td>165.300003</td>\n",
       "      <td>174048100</td>\n",
       "      <td>5.309998</td>\n",
       "    </tr>\n",
       "    <tr>\n",
       "      <th>2021-12-01</th>\n",
       "      <td>167.479996</td>\n",
       "      <td>170.300003</td>\n",
       "      <td>164.529999</td>\n",
       "      <td>164.770004</td>\n",
       "      <td>152052500</td>\n",
       "      <td>-2.709991</td>\n",
       "    </tr>\n",
       "    <tr>\n",
       "      <th>2021-12-02</th>\n",
       "      <td>158.740005</td>\n",
       "      <td>164.199997</td>\n",
       "      <td>157.800003</td>\n",
       "      <td>163.759995</td>\n",
       "      <td>136739200</td>\n",
       "      <td>5.019989</td>\n",
       "    </tr>\n",
       "    <tr>\n",
       "      <th>2021-12-03</th>\n",
       "      <td>164.020004</td>\n",
       "      <td>164.960007</td>\n",
       "      <td>159.720001</td>\n",
       "      <td>161.839996</td>\n",
       "      <td>117938300</td>\n",
       "      <td>-2.180008</td>\n",
       "    </tr>\n",
       "  </tbody>\n",
       "</table>\n",
       "<p>756 rows × 6 columns</p>\n",
       "</div>"
      ],
      "text/plain": [
       "                  Open        High         Low       Close     Volume  \\\n",
       "Date                                                                    \n",
       "2018-12-04   43.915545   44.265025   42.779737   42.881668  165377200   \n",
       "2018-12-06   41.685180   42.418118   41.359970   42.403557  172393600   \n",
       "2018-12-07   42.105043   42.347737   40.845459   40.891571  169126400   \n",
       "2018-12-10   40.044566   41.279879   39.639267   41.160961  248104000   \n",
       "2018-12-11   41.660916   41.692464   40.529959   40.925552  189126800   \n",
       "...                ...         ...         ...         ...        ...   \n",
       "2021-11-29  159.369995  161.190002  158.789993  160.240005   88748200   \n",
       "2021-11-30  159.990005  165.520004  159.919998  165.300003  174048100   \n",
       "2021-12-01  167.479996  170.300003  164.529999  164.770004  152052500   \n",
       "2021-12-02  158.740005  164.199997  157.800003  163.759995  136739200   \n",
       "2021-12-03  164.020004  164.960007  159.720001  161.839996  117938300   \n",
       "\n",
       "            Daily Change  \n",
       "Date                      \n",
       "2018-12-04     -1.033877  \n",
       "2018-12-06      0.718377  \n",
       "2018-12-07     -1.213472  \n",
       "2018-12-10      1.116395  \n",
       "2018-12-11     -0.735364  \n",
       "...                  ...  \n",
       "2021-11-29      0.870010  \n",
       "2021-11-30      5.309998  \n",
       "2021-12-01     -2.709991  \n",
       "2021-12-02      5.019989  \n",
       "2021-12-03     -2.180008  \n",
       "\n",
       "[756 rows x 6 columns]"
      ]
     },
     "execution_count": 14,
     "metadata": {},
     "output_type": "execute_result"
    }
   ],
   "source": [
    "apple"
   ]
  },
  {
   "cell_type": "code",
   "execution_count": 16,
   "id": "d0aeff34",
   "metadata": {},
   "outputs": [
    {
     "data": {
      "application/vnd.plotly.v1+json": {
       "config": {
        "plotlyServerURL": "https://plot.ly"
       },
       "data": [
        {
         "hovertemplate": "variable=Daily Change<br>Date=%{x}<br>value=%{y}<extra></extra>",
         "legendgroup": "Daily Change",
         "line": {
          "color": "#636efa"
         },
         "mode": "lines",
         "name": "Daily Change",
         "orientation": "v",
         "showlegend": true,
         "stackgroup": "1",
         "type": "scatter",
         "x": [
          "2018-12-04T00:00:00",
          "2018-12-06T00:00:00",
          "2018-12-07T00:00:00",
          "2018-12-10T00:00:00",
          "2018-12-11T00:00:00",
          "2018-12-12T00:00:00",
          "2018-12-13T00:00:00",
          "2018-12-14T00:00:00",
          "2018-12-17T00:00:00",
          "2018-12-18T00:00:00",
          "2018-12-19T00:00:00",
          "2018-12-20T00:00:00",
          "2018-12-21T00:00:00",
          "2018-12-24T00:00:00",
          "2018-12-26T00:00:00",
          "2018-12-27T00:00:00",
          "2018-12-28T00:00:00",
          "2018-12-31T00:00:00",
          "2019-01-02T00:00:00",
          "2019-01-03T00:00:00",
          "2019-01-04T00:00:00",
          "2019-01-07T00:00:00",
          "2019-01-08T00:00:00",
          "2019-01-09T00:00:00",
          "2019-01-10T00:00:00",
          "2019-01-11T00:00:00",
          "2019-01-14T00:00:00",
          "2019-01-15T00:00:00",
          "2019-01-16T00:00:00",
          "2019-01-17T00:00:00",
          "2019-01-18T00:00:00",
          "2019-01-22T00:00:00",
          "2019-01-23T00:00:00",
          "2019-01-24T00:00:00",
          "2019-01-25T00:00:00",
          "2019-01-28T00:00:00",
          "2019-01-29T00:00:00",
          "2019-01-30T00:00:00",
          "2019-01-31T00:00:00",
          "2019-02-01T00:00:00",
          "2019-02-04T00:00:00",
          "2019-02-05T00:00:00",
          "2019-02-06T00:00:00",
          "2019-02-07T00:00:00",
          "2019-02-08T00:00:00",
          "2019-02-11T00:00:00",
          "2019-02-12T00:00:00",
          "2019-02-13T00:00:00",
          "2019-02-14T00:00:00",
          "2019-02-15T00:00:00",
          "2019-02-19T00:00:00",
          "2019-02-20T00:00:00",
          "2019-02-21T00:00:00",
          "2019-02-22T00:00:00",
          "2019-02-25T00:00:00",
          "2019-02-26T00:00:00",
          "2019-02-27T00:00:00",
          "2019-02-28T00:00:00",
          "2019-03-01T00:00:00",
          "2019-03-04T00:00:00",
          "2019-03-05T00:00:00",
          "2019-03-06T00:00:00",
          "2019-03-07T00:00:00",
          "2019-03-08T00:00:00",
          "2019-03-11T00:00:00",
          "2019-03-12T00:00:00",
          "2019-03-13T00:00:00",
          "2019-03-14T00:00:00",
          "2019-03-15T00:00:00",
          "2019-03-18T00:00:00",
          "2019-03-19T00:00:00",
          "2019-03-20T00:00:00",
          "2019-03-21T00:00:00",
          "2019-03-22T00:00:00",
          "2019-03-25T00:00:00",
          "2019-03-26T00:00:00",
          "2019-03-27T00:00:00",
          "2019-03-28T00:00:00",
          "2019-03-29T00:00:00",
          "2019-04-01T00:00:00",
          "2019-04-02T00:00:00",
          "2019-04-03T00:00:00",
          "2019-04-04T00:00:00",
          "2019-04-05T00:00:00",
          "2019-04-08T00:00:00",
          "2019-04-09T00:00:00",
          "2019-04-10T00:00:00",
          "2019-04-11T00:00:00",
          "2019-04-12T00:00:00",
          "2019-04-15T00:00:00",
          "2019-04-16T00:00:00",
          "2019-04-17T00:00:00",
          "2019-04-18T00:00:00",
          "2019-04-22T00:00:00",
          "2019-04-23T00:00:00",
          "2019-04-24T00:00:00",
          "2019-04-25T00:00:00",
          "2019-04-26T00:00:00",
          "2019-04-29T00:00:00",
          "2019-04-30T00:00:00",
          "2019-05-01T00:00:00",
          "2019-05-02T00:00:00",
          "2019-05-03T00:00:00",
          "2019-05-06T00:00:00",
          "2019-05-07T00:00:00",
          "2019-05-08T00:00:00",
          "2019-05-09T00:00:00",
          "2019-05-10T00:00:00",
          "2019-05-13T00:00:00",
          "2019-05-14T00:00:00",
          "2019-05-15T00:00:00",
          "2019-05-16T00:00:00",
          "2019-05-17T00:00:00",
          "2019-05-20T00:00:00",
          "2019-05-21T00:00:00",
          "2019-05-22T00:00:00",
          "2019-05-23T00:00:00",
          "2019-05-24T00:00:00",
          "2019-05-28T00:00:00",
          "2019-05-29T00:00:00",
          "2019-05-30T00:00:00",
          "2019-05-31T00:00:00",
          "2019-06-03T00:00:00",
          "2019-06-04T00:00:00",
          "2019-06-05T00:00:00",
          "2019-06-06T00:00:00",
          "2019-06-07T00:00:00",
          "2019-06-10T00:00:00",
          "2019-06-11T00:00:00",
          "2019-06-12T00:00:00",
          "2019-06-13T00:00:00",
          "2019-06-14T00:00:00",
          "2019-06-17T00:00:00",
          "2019-06-18T00:00:00",
          "2019-06-19T00:00:00",
          "2019-06-20T00:00:00",
          "2019-06-21T00:00:00",
          "2019-06-24T00:00:00",
          "2019-06-25T00:00:00",
          "2019-06-26T00:00:00",
          "2019-06-27T00:00:00",
          "2019-06-28T00:00:00",
          "2019-07-01T00:00:00",
          "2019-07-02T00:00:00",
          "2019-07-03T00:00:00",
          "2019-07-05T00:00:00",
          "2019-07-08T00:00:00",
          "2019-07-09T00:00:00",
          "2019-07-10T00:00:00",
          "2019-07-11T00:00:00",
          "2019-07-12T00:00:00",
          "2019-07-15T00:00:00",
          "2019-07-16T00:00:00",
          "2019-07-17T00:00:00",
          "2019-07-18T00:00:00",
          "2019-07-19T00:00:00",
          "2019-07-22T00:00:00",
          "2019-07-23T00:00:00",
          "2019-07-24T00:00:00",
          "2019-07-25T00:00:00",
          "2019-07-26T00:00:00",
          "2019-07-29T00:00:00",
          "2019-07-30T00:00:00",
          "2019-07-31T00:00:00",
          "2019-08-01T00:00:00",
          "2019-08-02T00:00:00",
          "2019-08-05T00:00:00",
          "2019-08-06T00:00:00",
          "2019-08-07T00:00:00",
          "2019-08-08T00:00:00",
          "2019-08-09T00:00:00",
          "2019-08-12T00:00:00",
          "2019-08-13T00:00:00",
          "2019-08-14T00:00:00",
          "2019-08-15T00:00:00",
          "2019-08-16T00:00:00",
          "2019-08-19T00:00:00",
          "2019-08-20T00:00:00",
          "2019-08-21T00:00:00",
          "2019-08-22T00:00:00",
          "2019-08-23T00:00:00",
          "2019-08-26T00:00:00",
          "2019-08-27T00:00:00",
          "2019-08-28T00:00:00",
          "2019-08-29T00:00:00",
          "2019-08-30T00:00:00",
          "2019-09-03T00:00:00",
          "2019-09-04T00:00:00",
          "2019-09-05T00:00:00",
          "2019-09-06T00:00:00",
          "2019-09-09T00:00:00",
          "2019-09-10T00:00:00",
          "2019-09-11T00:00:00",
          "2019-09-12T00:00:00",
          "2019-09-13T00:00:00",
          "2019-09-16T00:00:00",
          "2019-09-17T00:00:00",
          "2019-09-18T00:00:00",
          "2019-09-19T00:00:00",
          "2019-09-20T00:00:00",
          "2019-09-23T00:00:00",
          "2019-09-24T00:00:00",
          "2019-09-25T00:00:00",
          "2019-09-26T00:00:00",
          "2019-09-27T00:00:00",
          "2019-09-30T00:00:00",
          "2019-10-01T00:00:00",
          "2019-10-02T00:00:00",
          "2019-10-03T00:00:00",
          "2019-10-04T00:00:00",
          "2019-10-07T00:00:00",
          "2019-10-08T00:00:00",
          "2019-10-09T00:00:00",
          "2019-10-10T00:00:00",
          "2019-10-11T00:00:00",
          "2019-10-14T00:00:00",
          "2019-10-15T00:00:00",
          "2019-10-16T00:00:00",
          "2019-10-17T00:00:00",
          "2019-10-18T00:00:00",
          "2019-10-21T00:00:00",
          "2019-10-22T00:00:00",
          "2019-10-23T00:00:00",
          "2019-10-24T00:00:00",
          "2019-10-25T00:00:00",
          "2019-10-28T00:00:00",
          "2019-10-29T00:00:00",
          "2019-10-30T00:00:00",
          "2019-10-31T00:00:00",
          "2019-11-01T00:00:00",
          "2019-11-04T00:00:00",
          "2019-11-05T00:00:00",
          "2019-11-06T00:00:00",
          "2019-11-07T00:00:00",
          "2019-11-08T00:00:00",
          "2019-11-11T00:00:00",
          "2019-11-12T00:00:00",
          "2019-11-13T00:00:00",
          "2019-11-14T00:00:00",
          "2019-11-15T00:00:00",
          "2019-11-18T00:00:00",
          "2019-11-19T00:00:00",
          "2019-11-20T00:00:00",
          "2019-11-21T00:00:00",
          "2019-11-22T00:00:00",
          "2019-11-25T00:00:00",
          "2019-11-26T00:00:00",
          "2019-11-27T00:00:00",
          "2019-11-29T00:00:00",
          "2019-12-02T00:00:00",
          "2019-12-03T00:00:00",
          "2019-12-04T00:00:00",
          "2019-12-05T00:00:00",
          "2019-12-06T00:00:00",
          "2019-12-09T00:00:00",
          "2019-12-10T00:00:00",
          "2019-12-11T00:00:00",
          "2019-12-12T00:00:00",
          "2019-12-13T00:00:00",
          "2019-12-16T00:00:00",
          "2019-12-17T00:00:00",
          "2019-12-18T00:00:00",
          "2019-12-19T00:00:00",
          "2019-12-20T00:00:00",
          "2019-12-23T00:00:00",
          "2019-12-24T00:00:00",
          "2019-12-26T00:00:00",
          "2019-12-27T00:00:00",
          "2019-12-30T00:00:00",
          "2019-12-31T00:00:00",
          "2020-01-02T00:00:00",
          "2020-01-03T00:00:00",
          "2020-01-06T00:00:00",
          "2020-01-07T00:00:00",
          "2020-01-08T00:00:00",
          "2020-01-09T00:00:00",
          "2020-01-10T00:00:00",
          "2020-01-13T00:00:00",
          "2020-01-14T00:00:00",
          "2020-01-15T00:00:00",
          "2020-01-16T00:00:00",
          "2020-01-17T00:00:00",
          "2020-01-21T00:00:00",
          "2020-01-22T00:00:00",
          "2020-01-23T00:00:00",
          "2020-01-24T00:00:00",
          "2020-01-27T00:00:00",
          "2020-01-28T00:00:00",
          "2020-01-29T00:00:00",
          "2020-01-30T00:00:00",
          "2020-01-31T00:00:00",
          "2020-02-03T00:00:00",
          "2020-02-04T00:00:00",
          "2020-02-05T00:00:00",
          "2020-02-06T00:00:00",
          "2020-02-07T00:00:00",
          "2020-02-10T00:00:00",
          "2020-02-11T00:00:00",
          "2020-02-12T00:00:00",
          "2020-02-13T00:00:00",
          "2020-02-14T00:00:00",
          "2020-02-18T00:00:00",
          "2020-02-19T00:00:00",
          "2020-02-20T00:00:00",
          "2020-02-21T00:00:00",
          "2020-02-24T00:00:00",
          "2020-02-25T00:00:00",
          "2020-02-26T00:00:00",
          "2020-02-27T00:00:00",
          "2020-02-28T00:00:00",
          "2020-03-02T00:00:00",
          "2020-03-03T00:00:00",
          "2020-03-04T00:00:00",
          "2020-03-05T00:00:00",
          "2020-03-06T00:00:00",
          "2020-03-09T00:00:00",
          "2020-03-10T00:00:00",
          "2020-03-11T00:00:00",
          "2020-03-12T00:00:00",
          "2020-03-13T00:00:00",
          "2020-03-16T00:00:00",
          "2020-03-17T00:00:00",
          "2020-03-18T00:00:00",
          "2020-03-19T00:00:00",
          "2020-03-20T00:00:00",
          "2020-03-23T00:00:00",
          "2020-03-24T00:00:00",
          "2020-03-25T00:00:00",
          "2020-03-26T00:00:00",
          "2020-03-27T00:00:00",
          "2020-03-30T00:00:00",
          "2020-03-31T00:00:00",
          "2020-04-01T00:00:00",
          "2020-04-02T00:00:00",
          "2020-04-03T00:00:00",
          "2020-04-06T00:00:00",
          "2020-04-07T00:00:00",
          "2020-04-08T00:00:00",
          "2020-04-09T00:00:00",
          "2020-04-13T00:00:00",
          "2020-04-14T00:00:00",
          "2020-04-15T00:00:00",
          "2020-04-16T00:00:00",
          "2020-04-17T00:00:00",
          "2020-04-20T00:00:00",
          "2020-04-21T00:00:00",
          "2020-04-22T00:00:00",
          "2020-04-23T00:00:00",
          "2020-04-24T00:00:00",
          "2020-04-27T00:00:00",
          "2020-04-28T00:00:00",
          "2020-04-29T00:00:00",
          "2020-04-30T00:00:00",
          "2020-05-01T00:00:00",
          "2020-05-04T00:00:00",
          "2020-05-05T00:00:00",
          "2020-05-06T00:00:00",
          "2020-05-07T00:00:00",
          "2020-05-08T00:00:00",
          "2020-05-11T00:00:00",
          "2020-05-12T00:00:00",
          "2020-05-13T00:00:00",
          "2020-05-14T00:00:00",
          "2020-05-15T00:00:00",
          "2020-05-18T00:00:00",
          "2020-05-19T00:00:00",
          "2020-05-20T00:00:00",
          "2020-05-21T00:00:00",
          "2020-05-22T00:00:00",
          "2020-05-26T00:00:00",
          "2020-05-27T00:00:00",
          "2020-05-28T00:00:00",
          "2020-05-29T00:00:00",
          "2020-06-01T00:00:00",
          "2020-06-02T00:00:00",
          "2020-06-03T00:00:00",
          "2020-06-04T00:00:00",
          "2020-06-05T00:00:00",
          "2020-06-08T00:00:00",
          "2020-06-09T00:00:00",
          "2020-06-10T00:00:00",
          "2020-06-11T00:00:00",
          "2020-06-12T00:00:00",
          "2020-06-15T00:00:00",
          "2020-06-16T00:00:00",
          "2020-06-17T00:00:00",
          "2020-06-18T00:00:00",
          "2020-06-19T00:00:00",
          "2020-06-22T00:00:00",
          "2020-06-23T00:00:00",
          "2020-06-24T00:00:00",
          "2020-06-25T00:00:00",
          "2020-06-26T00:00:00",
          "2020-06-29T00:00:00",
          "2020-06-30T00:00:00",
          "2020-07-01T00:00:00",
          "2020-07-02T00:00:00",
          "2020-07-06T00:00:00",
          "2020-07-07T00:00:00",
          "2020-07-08T00:00:00",
          "2020-07-09T00:00:00",
          "2020-07-10T00:00:00",
          "2020-07-13T00:00:00",
          "2020-07-14T00:00:00",
          "2020-07-15T00:00:00",
          "2020-07-16T00:00:00",
          "2020-07-17T00:00:00",
          "2020-07-20T00:00:00",
          "2020-07-21T00:00:00",
          "2020-07-22T00:00:00",
          "2020-07-23T00:00:00",
          "2020-07-24T00:00:00",
          "2020-07-27T00:00:00",
          "2020-07-28T00:00:00",
          "2020-07-29T00:00:00",
          "2020-07-30T00:00:00",
          "2020-07-31T00:00:00",
          "2020-08-03T00:00:00",
          "2020-08-04T00:00:00",
          "2020-08-05T00:00:00",
          "2020-08-06T00:00:00",
          "2020-08-07T00:00:00",
          "2020-08-10T00:00:00",
          "2020-08-11T00:00:00",
          "2020-08-12T00:00:00",
          "2020-08-13T00:00:00",
          "2020-08-14T00:00:00",
          "2020-08-17T00:00:00",
          "2020-08-18T00:00:00",
          "2020-08-19T00:00:00",
          "2020-08-20T00:00:00",
          "2020-08-21T00:00:00",
          "2020-08-24T00:00:00",
          "2020-08-25T00:00:00",
          "2020-08-26T00:00:00",
          "2020-08-27T00:00:00",
          "2020-08-28T00:00:00",
          "2020-08-31T00:00:00",
          "2020-09-01T00:00:00",
          "2020-09-02T00:00:00",
          "2020-09-03T00:00:00",
          "2020-09-04T00:00:00",
          "2020-09-08T00:00:00",
          "2020-09-09T00:00:00",
          "2020-09-10T00:00:00",
          "2020-09-11T00:00:00",
          "2020-09-14T00:00:00",
          "2020-09-15T00:00:00",
          "2020-09-16T00:00:00",
          "2020-09-17T00:00:00",
          "2020-09-18T00:00:00",
          "2020-09-21T00:00:00",
          "2020-09-22T00:00:00",
          "2020-09-23T00:00:00",
          "2020-09-24T00:00:00",
          "2020-09-25T00:00:00",
          "2020-09-28T00:00:00",
          "2020-09-29T00:00:00",
          "2020-09-30T00:00:00",
          "2020-10-01T00:00:00",
          "2020-10-02T00:00:00",
          "2020-10-05T00:00:00",
          "2020-10-06T00:00:00",
          "2020-10-07T00:00:00",
          "2020-10-08T00:00:00",
          "2020-10-09T00:00:00",
          "2020-10-12T00:00:00",
          "2020-10-13T00:00:00",
          "2020-10-14T00:00:00",
          "2020-10-15T00:00:00",
          "2020-10-16T00:00:00",
          "2020-10-19T00:00:00",
          "2020-10-20T00:00:00",
          "2020-10-21T00:00:00",
          "2020-10-22T00:00:00",
          "2020-10-23T00:00:00",
          "2020-10-26T00:00:00",
          "2020-10-27T00:00:00",
          "2020-10-28T00:00:00",
          "2020-10-29T00:00:00",
          "2020-10-30T00:00:00",
          "2020-11-02T00:00:00",
          "2020-11-03T00:00:00",
          "2020-11-04T00:00:00",
          "2020-11-05T00:00:00",
          "2020-11-06T00:00:00",
          "2020-11-09T00:00:00",
          "2020-11-10T00:00:00",
          "2020-11-11T00:00:00",
          "2020-11-12T00:00:00",
          "2020-11-13T00:00:00",
          "2020-11-16T00:00:00",
          "2020-11-17T00:00:00",
          "2020-11-18T00:00:00",
          "2020-11-19T00:00:00",
          "2020-11-20T00:00:00",
          "2020-11-23T00:00:00",
          "2020-11-24T00:00:00",
          "2020-11-25T00:00:00",
          "2020-11-27T00:00:00",
          "2020-11-30T00:00:00",
          "2020-12-01T00:00:00",
          "2020-12-02T00:00:00",
          "2020-12-03T00:00:00",
          "2020-12-04T00:00:00",
          "2020-12-07T00:00:00",
          "2020-12-08T00:00:00",
          "2020-12-09T00:00:00",
          "2020-12-10T00:00:00",
          "2020-12-11T00:00:00",
          "2020-12-14T00:00:00",
          "2020-12-15T00:00:00",
          "2020-12-16T00:00:00",
          "2020-12-17T00:00:00",
          "2020-12-18T00:00:00",
          "2020-12-21T00:00:00",
          "2020-12-22T00:00:00",
          "2020-12-23T00:00:00",
          "2020-12-24T00:00:00",
          "2020-12-28T00:00:00",
          "2020-12-29T00:00:00",
          "2020-12-30T00:00:00",
          "2020-12-31T00:00:00",
          "2021-01-04T00:00:00",
          "2021-01-05T00:00:00",
          "2021-01-06T00:00:00",
          "2021-01-07T00:00:00",
          "2021-01-08T00:00:00",
          "2021-01-11T00:00:00",
          "2021-01-12T00:00:00",
          "2021-01-13T00:00:00",
          "2021-01-14T00:00:00",
          "2021-01-15T00:00:00",
          "2021-01-19T00:00:00",
          "2021-01-20T00:00:00",
          "2021-01-21T00:00:00",
          "2021-01-22T00:00:00",
          "2021-01-25T00:00:00",
          "2021-01-26T00:00:00",
          "2021-01-27T00:00:00",
          "2021-01-28T00:00:00",
          "2021-01-29T00:00:00",
          "2021-02-01T00:00:00",
          "2021-02-02T00:00:00",
          "2021-02-03T00:00:00",
          "2021-02-04T00:00:00",
          "2021-02-05T00:00:00",
          "2021-02-08T00:00:00",
          "2021-02-09T00:00:00",
          "2021-02-10T00:00:00",
          "2021-02-11T00:00:00",
          "2021-02-12T00:00:00",
          "2021-02-16T00:00:00",
          "2021-02-17T00:00:00",
          "2021-02-18T00:00:00",
          "2021-02-19T00:00:00",
          "2021-02-22T00:00:00",
          "2021-02-23T00:00:00",
          "2021-02-24T00:00:00",
          "2021-02-25T00:00:00",
          "2021-02-26T00:00:00",
          "2021-03-01T00:00:00",
          "2021-03-02T00:00:00",
          "2021-03-03T00:00:00",
          "2021-03-04T00:00:00",
          "2021-03-05T00:00:00",
          "2021-03-08T00:00:00",
          "2021-03-09T00:00:00",
          "2021-03-10T00:00:00",
          "2021-03-11T00:00:00",
          "2021-03-12T00:00:00",
          "2021-03-15T00:00:00",
          "2021-03-16T00:00:00",
          "2021-03-17T00:00:00",
          "2021-03-18T00:00:00",
          "2021-03-19T00:00:00",
          "2021-03-22T00:00:00",
          "2021-03-23T00:00:00",
          "2021-03-24T00:00:00",
          "2021-03-25T00:00:00",
          "2021-03-26T00:00:00",
          "2021-03-29T00:00:00",
          "2021-03-30T00:00:00",
          "2021-03-31T00:00:00",
          "2021-04-01T00:00:00",
          "2021-04-05T00:00:00",
          "2021-04-06T00:00:00",
          "2021-04-07T00:00:00",
          "2021-04-08T00:00:00",
          "2021-04-09T00:00:00",
          "2021-04-12T00:00:00",
          "2021-04-13T00:00:00",
          "2021-04-14T00:00:00",
          "2021-04-15T00:00:00",
          "2021-04-16T00:00:00",
          "2021-04-19T00:00:00",
          "2021-04-20T00:00:00",
          "2021-04-21T00:00:00",
          "2021-04-22T00:00:00",
          "2021-04-23T00:00:00",
          "2021-04-26T00:00:00",
          "2021-04-27T00:00:00",
          "2021-04-28T00:00:00",
          "2021-04-29T00:00:00",
          "2021-04-30T00:00:00",
          "2021-05-03T00:00:00",
          "2021-05-04T00:00:00",
          "2021-05-05T00:00:00",
          "2021-05-06T00:00:00",
          "2021-05-07T00:00:00",
          "2021-05-10T00:00:00",
          "2021-05-11T00:00:00",
          "2021-05-12T00:00:00",
          "2021-05-13T00:00:00",
          "2021-05-14T00:00:00",
          "2021-05-17T00:00:00",
          "2021-05-18T00:00:00",
          "2021-05-19T00:00:00",
          "2021-05-20T00:00:00",
          "2021-05-21T00:00:00",
          "2021-05-24T00:00:00",
          "2021-05-25T00:00:00",
          "2021-05-26T00:00:00",
          "2021-05-27T00:00:00",
          "2021-05-28T00:00:00",
          "2021-06-01T00:00:00",
          "2021-06-02T00:00:00",
          "2021-06-03T00:00:00",
          "2021-06-04T00:00:00",
          "2021-06-07T00:00:00",
          "2021-06-08T00:00:00",
          "2021-06-09T00:00:00",
          "2021-06-10T00:00:00",
          "2021-06-11T00:00:00",
          "2021-06-14T00:00:00",
          "2021-06-15T00:00:00",
          "2021-06-16T00:00:00",
          "2021-06-17T00:00:00",
          "2021-06-18T00:00:00",
          "2021-06-21T00:00:00",
          "2021-06-22T00:00:00",
          "2021-06-23T00:00:00",
          "2021-06-24T00:00:00",
          "2021-06-25T00:00:00",
          "2021-06-28T00:00:00",
          "2021-06-29T00:00:00",
          "2021-06-30T00:00:00",
          "2021-07-01T00:00:00",
          "2021-07-02T00:00:00",
          "2021-07-06T00:00:00",
          "2021-07-07T00:00:00",
          "2021-07-08T00:00:00",
          "2021-07-09T00:00:00",
          "2021-07-12T00:00:00",
          "2021-07-13T00:00:00",
          "2021-07-14T00:00:00",
          "2021-07-15T00:00:00",
          "2021-07-16T00:00:00",
          "2021-07-19T00:00:00",
          "2021-07-20T00:00:00",
          "2021-07-21T00:00:00",
          "2021-07-22T00:00:00",
          "2021-07-23T00:00:00",
          "2021-07-26T00:00:00",
          "2021-07-27T00:00:00",
          "2021-07-28T00:00:00",
          "2021-07-29T00:00:00",
          "2021-07-30T00:00:00",
          "2021-08-02T00:00:00",
          "2021-08-03T00:00:00",
          "2021-08-04T00:00:00",
          "2021-08-05T00:00:00",
          "2021-08-06T00:00:00",
          "2021-08-09T00:00:00",
          "2021-08-10T00:00:00",
          "2021-08-11T00:00:00",
          "2021-08-12T00:00:00",
          "2021-08-13T00:00:00",
          "2021-08-16T00:00:00",
          "2021-08-17T00:00:00",
          "2021-08-18T00:00:00",
          "2021-08-19T00:00:00",
          "2021-08-20T00:00:00",
          "2021-08-23T00:00:00",
          "2021-08-24T00:00:00",
          "2021-08-25T00:00:00",
          "2021-08-26T00:00:00",
          "2021-08-27T00:00:00",
          "2021-08-30T00:00:00",
          "2021-08-31T00:00:00",
          "2021-09-01T00:00:00",
          "2021-09-02T00:00:00",
          "2021-09-03T00:00:00",
          "2021-09-07T00:00:00",
          "2021-09-08T00:00:00",
          "2021-09-09T00:00:00",
          "2021-09-10T00:00:00",
          "2021-09-13T00:00:00",
          "2021-09-14T00:00:00",
          "2021-09-15T00:00:00",
          "2021-09-16T00:00:00",
          "2021-09-17T00:00:00",
          "2021-09-20T00:00:00",
          "2021-09-21T00:00:00",
          "2021-09-22T00:00:00",
          "2021-09-23T00:00:00",
          "2021-09-24T00:00:00",
          "2021-09-27T00:00:00",
          "2021-09-28T00:00:00",
          "2021-09-29T00:00:00",
          "2021-09-30T00:00:00",
          "2021-10-01T00:00:00",
          "2021-10-04T00:00:00",
          "2021-10-05T00:00:00",
          "2021-10-06T00:00:00",
          "2021-10-07T00:00:00",
          "2021-10-08T00:00:00",
          "2021-10-11T00:00:00",
          "2021-10-12T00:00:00",
          "2021-10-13T00:00:00",
          "2021-10-14T00:00:00",
          "2021-10-15T00:00:00",
          "2021-10-18T00:00:00",
          "2021-10-19T00:00:00",
          "2021-10-20T00:00:00",
          "2021-10-21T00:00:00",
          "2021-10-22T00:00:00",
          "2021-10-25T00:00:00",
          "2021-10-26T00:00:00",
          "2021-10-27T00:00:00",
          "2021-10-28T00:00:00",
          "2021-10-29T00:00:00",
          "2021-11-01T00:00:00",
          "2021-11-02T00:00:00",
          "2021-11-03T00:00:00",
          "2021-11-04T00:00:00",
          "2021-11-05T00:00:00",
          "2021-11-08T00:00:00",
          "2021-11-09T00:00:00",
          "2021-11-10T00:00:00",
          "2021-11-11T00:00:00",
          "2021-11-12T00:00:00",
          "2021-11-15T00:00:00",
          "2021-11-16T00:00:00",
          "2021-11-17T00:00:00",
          "2021-11-18T00:00:00",
          "2021-11-19T00:00:00",
          "2021-11-22T00:00:00",
          "2021-11-23T00:00:00",
          "2021-11-24T00:00:00",
          "2021-11-26T00:00:00",
          "2021-11-29T00:00:00",
          "2021-11-30T00:00:00",
          "2021-12-01T00:00:00",
          "2021-12-02T00:00:00",
          "2021-12-03T00:00:00"
         ],
         "xaxis": "x",
         "y": [
          -1.033876665271059,
          0.7183769002584981,
          -1.2134717108363091,
          1.1163954345978695,
          -0.7353636371164427,
          -0.3154996890769155,
          0.11163732579118602,
          -0.8542849936790375,
          -0.36646712817827876,
          0.16745969460743027,
          -1.2401682326202064,
          -0.8664169215606776,
          -1.4877176878983747,
          -0.32035461224750605,
          2.1526979884292388,
          0.07523466279335622,
          -0.3082228028916987,
          -0.191726925836889,
          0.7353634884669731,
          -0.4344212411556114,
          0.9052488412159434,
          -0.1868757163676591,
          0.2888069050386548,
          0.4902436203999798,
          0.3155034071127787,
          -0.14319248814874186,
          -0.20629165386548465,
          0.6795450125629259,
          0.45141157526188636,
          0.4028734904163187,
          -0.16503038150295168,
          -0.7547796377288734,
          -0.05581865312218781,
          -0.3421999116511145,
          0.5533428362568387,
          0.12377647843553063,
          -0.38103193230082155,
          0.4853887283856153,
          0.08008958462852434,
          -0.10678609483353796,
          0.9319454501865678,
          0.3203546374963011,
          -0.09950186604297784,
          -0.35433166814998174,
          0.34610356615735327,
          -0.3948536420913129,
          0.1925491924430247,
          -0.29492125966859106,
          0.26567048474135646,
          -0.20230068660816158,
          0.2973536003590098,
          0.20473671974917806,
          -0.1803654259354346,
          0.3387918137876085,
          0.017059530664411682,
          0.1511146424140719,
          0.40459769414824365,
          -0.2851735012876233,
          0.16817787834162345,
          0.03899853118237928,
          -0.09993232778568739,
          -0.03655879454097999,
          -0.3339161021634922,
          0.6312732522354594,
          0.8311341934027112,
          0.22179992136485538,
          -0.13161540175980946,
          -0.0414345414065167,
          0.3095410287322977,
          0.5410925515222047,
          -0.44359986540767693,
          0.4704108057728078,
          1.2357356635771808,
          -1.0456225041640153,
          -0.6751439318047616,
          -1.1869931936737146,
          -0.06824556109530988,
          -0.05605805945274511,
          0.029247033958846202,
          -0.09749258904574987,
          0.7141460768737673,
          0.5118454222204534,
          0.21936392417521233,
          0.1340551262613232,
          0.8969476933258065,
          -0.19986466181354245,
          0.4728468886509063,
          -0.4630990949777214,
          -0.08043306964879093,
          0.1584263971353863,
          -0.05118602935640837,
          0.8750123488960924,
          0.18036538891305298,
          0.41434917453972275,
          0.7433932267196823,
          -0.048746294982770166,
          -0.3777903378440115,
          -0.14623891939188383,
          0.05118602784509818,
          -0.5825270823993662,
          0.15599039936859782,
          -0.1681778930712312,
          0.20961243212178715,
          1.0212511191933018,
          -0.7360815649712507,
          0.243735247894044,
          0.07799705762145237,
          -0.058723069460853594,
          -0.4869022506792646,
          0.5505161417134303,
          1.1377319080805535,
          0.04159410707043065,
          0.5064766303015276,
          -0.10521169327250135,
          0.33765108898888485,
          -0.45998802378521475,
          -0.03425419138320507,
          -0.30094776876575224,
          -0.1688255682549169,
          0.23488852224835455,
          0.08563734626987696,
          -0.28381885240499116,
          -0.5627505829372836,
          1.0276293919544273,
          -0.4257338311368599,
          0.5236018697791849,
          0.8906125839482968,
          0.18839990552996255,
          -0.01223443847733563,
          0.05872307099635066,
          -0.13457135086887462,
          0.29116245803218277,
          0.2422284118770932,
          0.5872156779152462,
          -0.4428590258374996,
          -0.22265036095523527,
          -0.004894522461249551,
          0.009789045507275773,
          -0.6997635943556162,
          0.49668759410318586,
          -0.13456763752356693,
          -0.18595076023701296,
          -0.3963704360391276,
          0.3229675238034275,
          0.2764826026150331,
          0.21531044352384754,
          -0.19329070758277567,
          0.4991367049441493,
          0.33764735956098235,
          -0.38169060968660773,
          0.20797428465360923,
          0.27403724989020617,
          -0.022019748186608012,
          -0.17127094822053124,
          0.4061594948314138,
          -0.7829555042213769,
          0.8734873938729351,
          0.0929735327202863,
          0.24467381093214158,
          -0.4575389086389663,
          0.06361759225591612,
          0.29849861864965277,
          0.004894522523130718,
          -0.8269988881870773,
          -1.338366234434794,
          -0.3694561823553002,
          -1.1377355356117675,
          0.16882555382586162,
          0.8881635558468659,
          0.790295470246491,
          -0.07613646900485094,
          0.2112191340822207,
          1.9525468273116076,
          -0.10069831620968728,
          -0.4224382743911761,
          0.5452399703106892,
          -0.066310235790084,
          -0.12771485317482956,
          -0.08596271790361953,
          -0.17928948702385838,
          -1.6676458426390397,
          0.15473138159846656,
          -0.9087321099385264,
          0.3512111432917493,
          0.12525642080758104,
          -0.3487564739966942,
          -0.1792894861395098,
          0.19648351808324094,
          0.3143721488618496,
          -0.19402884354399674,
          -0.16455388777035296,
          0.6975129523077896,
          1.3557284399275389,
          -0.41998362844151416,
          -0.30700432913643994,
          0.5329591182761817,
          0.18174418256059255,
          0.4199835758428918,
          -0.2578806581362372,
          -0.8964549803795521,
          -0.05648775294863384,
          -0.8227730887457412,
          0.6090955720857707,
          -0.027016532545133032,
          -0.42243449965131674,
          0.7540043363414313,
          -0.11789236675041082,
          -1.006971953724836,
          0.5869959054313725,
          0.3364755191628461,
          0.1940251200581855,
          -0.34876025836121016,
          7.105427357601002e-15,
          0.5305044029997177,
          0.8006696944771718,
          0.2382356785868538,
          -0.26279378056424463,
          0.24560347056890208,
          0.04666525533195909,
          0.4470001493089697,
          0.7343519071803257,
          -0.2947234079393013,
          0.2652484796582044,
          -0.22840943972867223,
          0.8399634367468067,
          0.4003348577283816,
          -1.3950297070356115,
          -0.368405204347404,
          0.3733146193351118,
          1.542393210182496,
          0.04175589011475722,
          0.01965247550845106,
          0.1154339254975838,
          0.1699757831672315,
          0.3571972523911455,
          0.9607353633140718,
          0.10100064088230454,
          0.8227774419663518,
          -0.2734347134293955,
          0.5123931611305323,
          0.3202475932511675,
          -0.39660515595765844,
          -0.578902576803145,
          -0.41385078330471003,
          -0.19953550731899838,
          0.9016082323034027,
          -0.6528017251126386,
          0.5567326819608525,
          0.16012005519097272,
          -0.7661164652090093,
          0.2808321395428237,
          0.16504415310282639,
          0.4409446253018672,
          0.7956760239973022,
          -0.7587265164088421,
          -0.029559696654956724,
          0.48282588181112374,
          0.9065324719246348,
          0.9089983654217804,
          0.7045311630602811,
          0.20692541263129272,
          -0.01477984906914287,
          0.12809454946648202,
          -0.6872929095548557,
          0.8548030351914946,
          -0.10346645723448944,
          1.253873937066416,
          -0.32517174652372205,
          0.5074614696130482,
          0.9163881750300078,
          1.0124646460953244,
          0.06897513747775008,
          1.4805031982868826,
          -0.3571897019990331,
          1.4854349635555337,
          0.5887582576516195,
          -0.06651683433436517,
          1.310527461253372,
          -0.9902949411113582,
          -0.125636244573883,
          0.4064608556872287,
          0.606003772608247,
          -0.1527301063648423,
          -0.21677362830925517,
          0.32270589889373014,
          -0.47790186572463256,
          -0.27343471215479553,
          1.2538740209521109,
          -0.027101401137983316,
          0.8203116420075247,
          -2.8132079447680667,
          1.074050023328212,
          0.8720487413922768,
          -0.509919812533056,
          0.6503359130934854,
          -0.5778048195870866,
          1.819839465591599,
          -0.9852378413784919,
          1.4148856064990696,
          0.1679074898049464,
          0.051859773886533844,
          0.8988123409286572,
          0.893868990398019,
          -0.5753406219212422,
          -1.375376728769396,
          0.22716721256627181,
          -3.17793742008503,
          1.5111827501861512,
          -1.8716989435957174,
          3.9754940016886735,
          4.081678091598661,
          -3.5433818366931007,
          1.555627702904431,
          -0.6420002146678456,
          1.735885881673255,
          0.597562916188707,
          2.024784481806975,
          -0.48397929791563854,
          -1.9037970111998064,
          3.2297820776099115,
          0.06420303317353415,
          1.32105280967739,
          1.7037843978528429,
          -0.6444757183529077,
          -4.429840206830377,
          -0.9160951763451379,
          2.5976569631122004,
          -1.2914190440499027,
          2.9433509362126813,
          -1.2370952414497225,
          1.0049847103458305,
          -0.32347555033388176,
          -1.380312396682207,
          1.1333869405763721,
          -0.3432262113446356,
          2.8569289650409857,
          -2.807541502804014,
          0.8222660510274693,
          -0.175322507117059,
          1.2198123688599054,
          1.7408216955820421,
          0.501258455093506,
          -0.17037919022294545,
          -0.46669281122736095,
          -0.2518687902663146,
          -1.9531816030851417,
          0.6148495516883656,
          -0.20741648838807691,
          1.4247571881531513,
          0.3382942684456367,
          -1.60501564384721,
          0.7407763956676519,
          0.9481928933714983,
          0.6963316203885626,
          0.9852303202818149,
          0.6173137490326184,
          0.04198065125024186,
          0.12839853940700152,
          1.1116943505020913,
          1.7108749973211417,
          -1.589548622592872,
          -1.1141725832810607,
          1.2453970589679386,
          1.8222875172463375,
          0.44318758300434524,
          -0.4679485740812197,
          0.6313690587395797,
          -0.44814434265077807,
          0.7724993963659728,
          -1.6762079640103593,
          0.48775273353427906,
          0.36644166542944845,
          -0.3243474196837184,
          1.0151364612769953,
          0.6412672631779373,
          0.11389107674681043,
          -0.5125212263492784,
          2.017888760760272,
          0.7947743075550022,
          2.9339816512727452,
          1.2231144678077754,
          -3.3202349737733527,
          -1.4657590985994915,
          2.411562288451435,
          0.15350699949247826,
          -0.8814336609503926,
          0.07923186779241576,
          -1.2181653142190214,
          1.8643817119062334,
          0.6264122343805099,
          -1.2231142573260456,
          1.0250348552565782,
          -2.669061968100678,
          2.111975737523096,
          1.1686434930121692,
          -0.2500722826819697,
          -0.9260064194924666,
          0.953238022338212,
          -0.6734557168016266,
          1.1513101747338794,
          -0.5050861060622367,
          0.5793687753963894,
          -1.7702948525555797,
          2.196164415493058,
          -1.2528244352545528,
          -0.039615931048828656,
          -0.6536515288882043,
          1.921323365996443,
          -2.1515916753800184,
          0.5744196715448311,
          -4.112531045609273,
          1.6118311286989524,
          1.089411631354551,
          -1.1042666819167835,
          1.2775854254993533,
          1.9832296624217491,
          3.3425176164985118,
          0.73040505304688,
          0.527376187483469,
          0.6784048525321538,
          3.463835958886179,
          -2.076096132830557,
          0.12650298868253174,
          -2.574659531795561,
          2.4928096940692797,
          0.575455301310015,
          0.07689188943787428,
          -1.4435964743179284,
          1.2005142527952302,
          -0.272845850132029,
          2.505208595776253,
          5.067469273101764,
          -2.817734335270586,
          0.12649541419510513,
          0.33981400371979475,
          -2.11578360925202,
          -1.1955485018363134,
          1.4485470276218706,
          1.4088671564858828,
          -6.141481168539855,
          -5.982739084816217,
          0.8830228630838803,
          -1.1211395526065644,
          0.059527254040617095,
          -6.816150159726149,
          -2.5498538211494406,
          0.6349825755067684,
          -2.7681307023511152,
          -3.075705912983665,
          0.6151351646060306,
          -3.5320991348378925,
          5.496574105694918,
          -0.8631829612283184,
          -4.464725446857656,
          3.0260947602003796,
          3.819819045819358,
          -0.04961108892560162,
          -0.4564008884980808,
          2.0041625138827612,
          -0.8433355371039255,
          0.1289782404110582,
          2.5696939760359356,
          -2.5200829457137672,
          0.45639326270708125,
          -1.2699651762634545,
          1.676754905327698,
          4.305983925462655,
          -4.137310611544521,
          0.1885130422293031,
          1.9743986873561852,
          -2.2422865418084257,
          -3.94879768496844,
          1.2997363467004135,
          0.198436778572173,
          -1.6866710135827958,
          -1.3394161531838478,
          1.0318486806804117,
          1.1012995623488564,
          -3.819826972782735,
          2.9268725531596544,
          -2.1827517512585786,
          -0.33733875438885264,
          0.773884593328745,
          0.8036482600359562,
          1.0715359153457769,
          0.36773572421986955,
          -4.154389182702559,
          0.4174248394275537,
          2.285903321878351,
          -0.4074915682234632,
          -0.17889744447093392,
          1.371549531909622,
          -0.1590233145502964,
          -0.5764481340553544,
          1.0435696284010447,
          -1.2920379488216867,
          -3.309598786090902,
          1.2522745629254644,
          0.4770547986421576,
          0.019874123474522776,
          2.0672577205523623,
          1.6995218935911396,
          1.05351052696534,
          -0.5764405926271081,
          -0.34785401824802875,
          1.431179539373872,
          0.009933270405099393,
          -2.7331508973716865,
          2.723209786390413,
          -0.019874123383260667,
          -0.814975600637581,
          3.5183112519537616,
          0.39754311992751923,
          -0.19877156877421953,
          -2.285910916526177,
          3.190331364117725,
          0.2683499242555172,
          -1.1926445053597945,
          0.6460113171301884,
          2.683454180488212,
          -3.1605242319920706,
          -1.8486045575109245,
          -1.3814828986247107,
          -4.084818720342213,
          2.1070058161445786,
          -1.113140536447517,
          2.5443126011168857,
          -0.37766143794564755,
          -0.20871999050260115,
          0.2981649058245637,
          2.1169544543591314,
          -1.8784194535993493,
          -1.6299512467116273,
          0.04969668150967266,
          3.3493472362398364,
          3.0511821045377587,
          2.7729141753274575,
          -0.14909004859347874,
          -0.437306515261497,
          -1.361601104069024,
          -2.415119002754352,
          -3.846283701244033,
          0.38760988339035407,
          -0.7354562942623772,
          -1.8088407966222064,
          1.083317985149904,
          -0.5872728857733307,
          0.8759200475402906,
          -0.6071690356790214,
          -1.0849368316365542,
          -0.7664147242321917,
          1.0152543401412117,
          -2.289326651309267,
          -0.4081004679839566,
          0.5076423682898792,
          -0.3682928227953255,
          -2.0006643513943914,
          2.0902506355410537,
          0.40809289301139984,
          -3.6728740777259077,
          -1.323820617760532,
          4.021247729502477,
          -3.2747292412396263,
          -2.7372349682298136,
          -1.612482945070468,
          0.43795242037919024,
          -4.548786247472577,
          2.0504353796165447,
          -1.7020615057905673,
          -0.5773095308147589,
          0.6270729267151722,
          2.5680181870528287,
          -0.1293938167234927,
          0.7067033774682017,
          -2.339090051536388,
          0.0895785878294788,
          3.045793607191939,
          -0.786333867790006,
          -2.7173310462508056,
          1.0451214978654093,
          0.8560086257785997,
          -0.2587952401871121,
          -0.2090242888222491,
          0.49767904639753624,
          -0.6569399928855688,
          2.020575785944615,
          -0.28865477922833804,
          2.060391125931446,
          1.4034585692359087,
          3.1851425656744254,
          -1.2740571122749884,
          1.9807529342971861,
          -2.8964957334921735,
          0.6768361757055743,
          -0.13934954278335,
          1.3238282288161543,
          -1.9011377476384155,
          1.1347076581505178,
          -1.094884882935446,
          2.1499773125679837,
          -0.10949000327173053,
          -0.6171171612298849,
          -0.7266071253928317,
          -2.9761262405046125,
          -0.31850668139182403,
          0.49767900382920516,
          -3.324499981852739,
          -1.0948848630637826,
          1.8414186492301354,
          -0.6381106907224137,
          -2.552450112476265,
          2.4028913276638093,
          -0.6281456457432881,
          0.38884842003737674,
          1.1964555293059504,
          -0.5483799066951462,
          -1.704952580865907,
          1.525483498167361,
          2.0738557244339546,
          -2.38294613878692,
          1.0867795264053655,
          -0.9172830935132623,
          -0.10967597705726462,
          -1.156580243042626,
          -0.9571659705206486,
          -0.797642080303433,
          0.7776968311507062,
          -1.1366350730419583,
          1.8146285922522054,
          -0.2691998387756769,
          0.13958622788453567,
          -0.07976573630365635,
          -0.9073104981658702,
          0.8175797356229424,
          2.652145888356088,
          -0.2991177057724599,
          -0.21935196057827966,
          1.9841174862351352,
          -0.249262207293782,
          1.994097628336732,
          1.8445311622730003,
          -0.06980072575788654,
          -1.0369240350953532,
          -0.3489731969726506,
          1.3659521083327206,
          1.5254835435295604,
          0.7876771080916569,
          0.6680208979055351,
          2.0539334519554586,
          1.9442421312349154,
          1.0269742891884732,
          1.6551046640766742,
          2.3530359508751815,
          -1.7049602724879094,
          1.605249211879709,
          1.0468890772581858,
          -0.757766863285724,
          -2.0638983761755867,
          -1.296166514998589,
          2.682048449587313,
          -0.12962122318074876,
          0.857462537716458,
          1.007013911240847,
          0.7178764366909718,
          -2.343055493968393,
          0.16949648033710218,
          0.947193338095019,
          1.4756279269660126,
          -0.837517340804709,
          1.5454286626267617,
          -0.3190629377387211,
          0.07976573671552956,
          -0.20970065332630838,
          -0.10984029973653264,
          -0.8387721775825128,
          -0.18972553989121366,
          2.696062195824311,
          0.12981542519935374,
          2.57624194430133,
          -0.03993500386906135,
          -3.43498903949299,
          1.6675644238314646,
          0.748907023223353,
          1.3979689427550284,
          0.1697504228002913,
          -1.4478837502889519,
          -0.8088323771149533,
          1.1183782003407146,
          4.113990973976314,
          -0.8287922374690879,
          -0.31954096347311634,
          -0.21968060061990968,
          0.5392215646414797,
          1.7174946251875554,
          -1.8672699504297157,
          -1.4179287423936842,
          -6.021210935499681,
          -1.0784279294754526,
          -2.2267610284181956,
          0.4693162494918397,
          0.3494807772075603,
          -2.7559874735189,
          -0.8587472922180268,
          -0.49927131645387135,
          1.3979688478490857,
          0.17974561067782702,
          1.2581582755491638,
          -0.09986036095185113,
          -1.3380434462298751,
          0.3594759840331392,
          -2.1568558990705355,
          0.7489070149785277,
          -2.6161768980011004,
          1.6176342627564964,
          2.52631175689217,
          0.22966055473145275,
          -1.1283580967107696,
          0.5392063629366817,
          -1.7174946626909957,
          -0.3295209085317481,
          1.6475893404791009,
          1.0684327696684193,
          3.095488254123893,
          1.7474496198893519,
          0.5591814837259506,
          0.669021724435396,
          -0.998542672271725,
          -0.039935003729027585,
          -0.009979941737782383,
          -0.5092512924187247,
          2.7459922302893744,
          2.5762419263439824,
          -0.029955060590737048,
          1.3580186472176763,
          1.0984030807761656,
          -0.6190915687207053,
          -0.6100006103515625,
          -0.970001220703125,
          0.6100006103515625,
          -2.100006103515625,
          -1.0900115966796875,
          1.5600128173828125,
          -0.3699951171875,
          1.05999755859375,
          2.4900054931640625,
          4.1599884033203125,
          2.9000091552734375,
          -0.6599884033203125,
          0.290008544921875,
          1.19000244140625,
          -2.760009765625,
          0.8700103759765625,
          5.30999755859375,
          -2.709991455078125,
          5.019989013671875,
          -2.1800079345703125
         ],
         "yaxis": "y"
        }
       ],
       "layout": {
        "legend": {
         "title": {
          "text": "variable"
         },
         "tracegroupgap": 0
        },
        "template": {
         "data": {
          "bar": [
           {
            "error_x": {
             "color": "#2a3f5f"
            },
            "error_y": {
             "color": "#2a3f5f"
            },
            "marker": {
             "line": {
              "color": "#E5ECF6",
              "width": 0.5
             },
             "pattern": {
              "fillmode": "overlay",
              "size": 10,
              "solidity": 0.2
             }
            },
            "type": "bar"
           }
          ],
          "barpolar": [
           {
            "marker": {
             "line": {
              "color": "#E5ECF6",
              "width": 0.5
             },
             "pattern": {
              "fillmode": "overlay",
              "size": 10,
              "solidity": 0.2
             }
            },
            "type": "barpolar"
           }
          ],
          "carpet": [
           {
            "aaxis": {
             "endlinecolor": "#2a3f5f",
             "gridcolor": "white",
             "linecolor": "white",
             "minorgridcolor": "white",
             "startlinecolor": "#2a3f5f"
            },
            "baxis": {
             "endlinecolor": "#2a3f5f",
             "gridcolor": "white",
             "linecolor": "white",
             "minorgridcolor": "white",
             "startlinecolor": "#2a3f5f"
            },
            "type": "carpet"
           }
          ],
          "choropleth": [
           {
            "colorbar": {
             "outlinewidth": 0,
             "ticks": ""
            },
            "type": "choropleth"
           }
          ],
          "contour": [
           {
            "colorbar": {
             "outlinewidth": 0,
             "ticks": ""
            },
            "colorscale": [
             [
              0,
              "#0d0887"
             ],
             [
              0.1111111111111111,
              "#46039f"
             ],
             [
              0.2222222222222222,
              "#7201a8"
             ],
             [
              0.3333333333333333,
              "#9c179e"
             ],
             [
              0.4444444444444444,
              "#bd3786"
             ],
             [
              0.5555555555555556,
              "#d8576b"
             ],
             [
              0.6666666666666666,
              "#ed7953"
             ],
             [
              0.7777777777777778,
              "#fb9f3a"
             ],
             [
              0.8888888888888888,
              "#fdca26"
             ],
             [
              1,
              "#f0f921"
             ]
            ],
            "type": "contour"
           }
          ],
          "contourcarpet": [
           {
            "colorbar": {
             "outlinewidth": 0,
             "ticks": ""
            },
            "type": "contourcarpet"
           }
          ],
          "heatmap": [
           {
            "colorbar": {
             "outlinewidth": 0,
             "ticks": ""
            },
            "colorscale": [
             [
              0,
              "#0d0887"
             ],
             [
              0.1111111111111111,
              "#46039f"
             ],
             [
              0.2222222222222222,
              "#7201a8"
             ],
             [
              0.3333333333333333,
              "#9c179e"
             ],
             [
              0.4444444444444444,
              "#bd3786"
             ],
             [
              0.5555555555555556,
              "#d8576b"
             ],
             [
              0.6666666666666666,
              "#ed7953"
             ],
             [
              0.7777777777777778,
              "#fb9f3a"
             ],
             [
              0.8888888888888888,
              "#fdca26"
             ],
             [
              1,
              "#f0f921"
             ]
            ],
            "type": "heatmap"
           }
          ],
          "heatmapgl": [
           {
            "colorbar": {
             "outlinewidth": 0,
             "ticks": ""
            },
            "colorscale": [
             [
              0,
              "#0d0887"
             ],
             [
              0.1111111111111111,
              "#46039f"
             ],
             [
              0.2222222222222222,
              "#7201a8"
             ],
             [
              0.3333333333333333,
              "#9c179e"
             ],
             [
              0.4444444444444444,
              "#bd3786"
             ],
             [
              0.5555555555555556,
              "#d8576b"
             ],
             [
              0.6666666666666666,
              "#ed7953"
             ],
             [
              0.7777777777777778,
              "#fb9f3a"
             ],
             [
              0.8888888888888888,
              "#fdca26"
             ],
             [
              1,
              "#f0f921"
             ]
            ],
            "type": "heatmapgl"
           }
          ],
          "histogram": [
           {
            "marker": {
             "pattern": {
              "fillmode": "overlay",
              "size": 10,
              "solidity": 0.2
             }
            },
            "type": "histogram"
           }
          ],
          "histogram2d": [
           {
            "colorbar": {
             "outlinewidth": 0,
             "ticks": ""
            },
            "colorscale": [
             [
              0,
              "#0d0887"
             ],
             [
              0.1111111111111111,
              "#46039f"
             ],
             [
              0.2222222222222222,
              "#7201a8"
             ],
             [
              0.3333333333333333,
              "#9c179e"
             ],
             [
              0.4444444444444444,
              "#bd3786"
             ],
             [
              0.5555555555555556,
              "#d8576b"
             ],
             [
              0.6666666666666666,
              "#ed7953"
             ],
             [
              0.7777777777777778,
              "#fb9f3a"
             ],
             [
              0.8888888888888888,
              "#fdca26"
             ],
             [
              1,
              "#f0f921"
             ]
            ],
            "type": "histogram2d"
           }
          ],
          "histogram2dcontour": [
           {
            "colorbar": {
             "outlinewidth": 0,
             "ticks": ""
            },
            "colorscale": [
             [
              0,
              "#0d0887"
             ],
             [
              0.1111111111111111,
              "#46039f"
             ],
             [
              0.2222222222222222,
              "#7201a8"
             ],
             [
              0.3333333333333333,
              "#9c179e"
             ],
             [
              0.4444444444444444,
              "#bd3786"
             ],
             [
              0.5555555555555556,
              "#d8576b"
             ],
             [
              0.6666666666666666,
              "#ed7953"
             ],
             [
              0.7777777777777778,
              "#fb9f3a"
             ],
             [
              0.8888888888888888,
              "#fdca26"
             ],
             [
              1,
              "#f0f921"
             ]
            ],
            "type": "histogram2dcontour"
           }
          ],
          "mesh3d": [
           {
            "colorbar": {
             "outlinewidth": 0,
             "ticks": ""
            },
            "type": "mesh3d"
           }
          ],
          "parcoords": [
           {
            "line": {
             "colorbar": {
              "outlinewidth": 0,
              "ticks": ""
             }
            },
            "type": "parcoords"
           }
          ],
          "pie": [
           {
            "automargin": true,
            "type": "pie"
           }
          ],
          "scatter": [
           {
            "marker": {
             "colorbar": {
              "outlinewidth": 0,
              "ticks": ""
             }
            },
            "type": "scatter"
           }
          ],
          "scatter3d": [
           {
            "line": {
             "colorbar": {
              "outlinewidth": 0,
              "ticks": ""
             }
            },
            "marker": {
             "colorbar": {
              "outlinewidth": 0,
              "ticks": ""
             }
            },
            "type": "scatter3d"
           }
          ],
          "scattercarpet": [
           {
            "marker": {
             "colorbar": {
              "outlinewidth": 0,
              "ticks": ""
             }
            },
            "type": "scattercarpet"
           }
          ],
          "scattergeo": [
           {
            "marker": {
             "colorbar": {
              "outlinewidth": 0,
              "ticks": ""
             }
            },
            "type": "scattergeo"
           }
          ],
          "scattergl": [
           {
            "marker": {
             "colorbar": {
              "outlinewidth": 0,
              "ticks": ""
             }
            },
            "type": "scattergl"
           }
          ],
          "scattermapbox": [
           {
            "marker": {
             "colorbar": {
              "outlinewidth": 0,
              "ticks": ""
             }
            },
            "type": "scattermapbox"
           }
          ],
          "scatterpolar": [
           {
            "marker": {
             "colorbar": {
              "outlinewidth": 0,
              "ticks": ""
             }
            },
            "type": "scatterpolar"
           }
          ],
          "scatterpolargl": [
           {
            "marker": {
             "colorbar": {
              "outlinewidth": 0,
              "ticks": ""
             }
            },
            "type": "scatterpolargl"
           }
          ],
          "scatterternary": [
           {
            "marker": {
             "colorbar": {
              "outlinewidth": 0,
              "ticks": ""
             }
            },
            "type": "scatterternary"
           }
          ],
          "surface": [
           {
            "colorbar": {
             "outlinewidth": 0,
             "ticks": ""
            },
            "colorscale": [
             [
              0,
              "#0d0887"
             ],
             [
              0.1111111111111111,
              "#46039f"
             ],
             [
              0.2222222222222222,
              "#7201a8"
             ],
             [
              0.3333333333333333,
              "#9c179e"
             ],
             [
              0.4444444444444444,
              "#bd3786"
             ],
             [
              0.5555555555555556,
              "#d8576b"
             ],
             [
              0.6666666666666666,
              "#ed7953"
             ],
             [
              0.7777777777777778,
              "#fb9f3a"
             ],
             [
              0.8888888888888888,
              "#fdca26"
             ],
             [
              1,
              "#f0f921"
             ]
            ],
            "type": "surface"
           }
          ],
          "table": [
           {
            "cells": {
             "fill": {
              "color": "#EBF0F8"
             },
             "line": {
              "color": "white"
             }
            },
            "header": {
             "fill": {
              "color": "#C8D4E3"
             },
             "line": {
              "color": "white"
             }
            },
            "type": "table"
           }
          ]
         },
         "layout": {
          "annotationdefaults": {
           "arrowcolor": "#2a3f5f",
           "arrowhead": 0,
           "arrowwidth": 1
          },
          "autotypenumbers": "strict",
          "coloraxis": {
           "colorbar": {
            "outlinewidth": 0,
            "ticks": ""
           }
          },
          "colorscale": {
           "diverging": [
            [
             0,
             "#8e0152"
            ],
            [
             0.1,
             "#c51b7d"
            ],
            [
             0.2,
             "#de77ae"
            ],
            [
             0.3,
             "#f1b6da"
            ],
            [
             0.4,
             "#fde0ef"
            ],
            [
             0.5,
             "#f7f7f7"
            ],
            [
             0.6,
             "#e6f5d0"
            ],
            [
             0.7,
             "#b8e186"
            ],
            [
             0.8,
             "#7fbc41"
            ],
            [
             0.9,
             "#4d9221"
            ],
            [
             1,
             "#276419"
            ]
           ],
           "sequential": [
            [
             0,
             "#0d0887"
            ],
            [
             0.1111111111111111,
             "#46039f"
            ],
            [
             0.2222222222222222,
             "#7201a8"
            ],
            [
             0.3333333333333333,
             "#9c179e"
            ],
            [
             0.4444444444444444,
             "#bd3786"
            ],
            [
             0.5555555555555556,
             "#d8576b"
            ],
            [
             0.6666666666666666,
             "#ed7953"
            ],
            [
             0.7777777777777778,
             "#fb9f3a"
            ],
            [
             0.8888888888888888,
             "#fdca26"
            ],
            [
             1,
             "#f0f921"
            ]
           ],
           "sequentialminus": [
            [
             0,
             "#0d0887"
            ],
            [
             0.1111111111111111,
             "#46039f"
            ],
            [
             0.2222222222222222,
             "#7201a8"
            ],
            [
             0.3333333333333333,
             "#9c179e"
            ],
            [
             0.4444444444444444,
             "#bd3786"
            ],
            [
             0.5555555555555556,
             "#d8576b"
            ],
            [
             0.6666666666666666,
             "#ed7953"
            ],
            [
             0.7777777777777778,
             "#fb9f3a"
            ],
            [
             0.8888888888888888,
             "#fdca26"
            ],
            [
             1,
             "#f0f921"
            ]
           ]
          },
          "colorway": [
           "#636efa",
           "#EF553B",
           "#00cc96",
           "#ab63fa",
           "#FFA15A",
           "#19d3f3",
           "#FF6692",
           "#B6E880",
           "#FF97FF",
           "#FECB52"
          ],
          "font": {
           "color": "#2a3f5f"
          },
          "geo": {
           "bgcolor": "white",
           "lakecolor": "white",
           "landcolor": "#E5ECF6",
           "showlakes": true,
           "showland": true,
           "subunitcolor": "white"
          },
          "hoverlabel": {
           "align": "left"
          },
          "hovermode": "closest",
          "mapbox": {
           "style": "light"
          },
          "paper_bgcolor": "white",
          "plot_bgcolor": "#E5ECF6",
          "polar": {
           "angularaxis": {
            "gridcolor": "white",
            "linecolor": "white",
            "ticks": ""
           },
           "bgcolor": "#E5ECF6",
           "radialaxis": {
            "gridcolor": "white",
            "linecolor": "white",
            "ticks": ""
           }
          },
          "scene": {
           "xaxis": {
            "backgroundcolor": "#E5ECF6",
            "gridcolor": "white",
            "gridwidth": 2,
            "linecolor": "white",
            "showbackground": true,
            "ticks": "",
            "zerolinecolor": "white"
           },
           "yaxis": {
            "backgroundcolor": "#E5ECF6",
            "gridcolor": "white",
            "gridwidth": 2,
            "linecolor": "white",
            "showbackground": true,
            "ticks": "",
            "zerolinecolor": "white"
           },
           "zaxis": {
            "backgroundcolor": "#E5ECF6",
            "gridcolor": "white",
            "gridwidth": 2,
            "linecolor": "white",
            "showbackground": true,
            "ticks": "",
            "zerolinecolor": "white"
           }
          },
          "shapedefaults": {
           "line": {
            "color": "#2a3f5f"
           }
          },
          "ternary": {
           "aaxis": {
            "gridcolor": "white",
            "linecolor": "white",
            "ticks": ""
           },
           "baxis": {
            "gridcolor": "white",
            "linecolor": "white",
            "ticks": ""
           },
           "bgcolor": "#E5ECF6",
           "caxis": {
            "gridcolor": "white",
            "linecolor": "white",
            "ticks": ""
           }
          },
          "title": {
           "x": 0.05
          },
          "xaxis": {
           "automargin": true,
           "gridcolor": "white",
           "linecolor": "white",
           "ticks": "",
           "title": {
            "standoff": 15
           },
           "zerolinecolor": "white",
           "zerolinewidth": 2
          },
          "yaxis": {
           "automargin": true,
           "gridcolor": "white",
           "linecolor": "white",
           "ticks": "",
           "title": {
            "standoff": 15
           },
           "zerolinecolor": "white",
           "zerolinewidth": 2
          }
         }
        },
        "title": {
         "text": "FACEBOOK SHARE PRICE (2013-2020)"
        },
        "xaxis": {
         "anchor": "y",
         "domain": [
          0,
          1
         ],
         "title": {
          "text": "Date"
         }
        },
        "yaxis": {
         "anchor": "x",
         "domain": [
          0,
          1
         ],
         "title": {
          "text": "value"
         }
        }
       }
      },
      "text/html": [
       "<div>                            <div id=\"c3cd3c42-575b-4361-861f-2702e5a0d2ee\" class=\"plotly-graph-div\" style=\"height:525px; width:100%;\"></div>            <script type=\"text/javascript\">                require([\"plotly\"], function(Plotly) {                    window.PLOTLYENV=window.PLOTLYENV || {};                                    if (document.getElementById(\"c3cd3c42-575b-4361-861f-2702e5a0d2ee\")) {                    Plotly.newPlot(                        \"c3cd3c42-575b-4361-861f-2702e5a0d2ee\",                        [{\"hovertemplate\":\"variable=Daily Change<br>Date=%{x}<br>value=%{y}<extra></extra>\",\"legendgroup\":\"Daily Change\",\"line\":{\"color\":\"#636efa\"},\"mode\":\"lines\",\"name\":\"Daily Change\",\"orientation\":\"v\",\"showlegend\":true,\"stackgroup\":\"1\",\"type\":\"scatter\",\"x\":[\"2018-12-04T00:00:00\",\"2018-12-06T00:00:00\",\"2018-12-07T00:00:00\",\"2018-12-10T00:00:00\",\"2018-12-11T00:00:00\",\"2018-12-12T00:00:00\",\"2018-12-13T00:00:00\",\"2018-12-14T00:00:00\",\"2018-12-17T00:00:00\",\"2018-12-18T00:00:00\",\"2018-12-19T00:00:00\",\"2018-12-20T00:00:00\",\"2018-12-21T00:00:00\",\"2018-12-24T00:00:00\",\"2018-12-26T00:00:00\",\"2018-12-27T00:00:00\",\"2018-12-28T00:00:00\",\"2018-12-31T00:00:00\",\"2019-01-02T00:00:00\",\"2019-01-03T00:00:00\",\"2019-01-04T00:00:00\",\"2019-01-07T00:00:00\",\"2019-01-08T00:00:00\",\"2019-01-09T00:00:00\",\"2019-01-10T00:00:00\",\"2019-01-11T00:00:00\",\"2019-01-14T00:00:00\",\"2019-01-15T00:00:00\",\"2019-01-16T00:00:00\",\"2019-01-17T00:00:00\",\"2019-01-18T00:00:00\",\"2019-01-22T00:00:00\",\"2019-01-23T00:00:00\",\"2019-01-24T00:00:00\",\"2019-01-25T00:00:00\",\"2019-01-28T00:00:00\",\"2019-01-29T00:00:00\",\"2019-01-30T00:00:00\",\"2019-01-31T00:00:00\",\"2019-02-01T00:00:00\",\"2019-02-04T00:00:00\",\"2019-02-05T00:00:00\",\"2019-02-06T00:00:00\",\"2019-02-07T00:00:00\",\"2019-02-08T00:00:00\",\"2019-02-11T00:00:00\",\"2019-02-12T00:00:00\",\"2019-02-13T00:00:00\",\"2019-02-14T00:00:00\",\"2019-02-15T00:00:00\",\"2019-02-19T00:00:00\",\"2019-02-20T00:00:00\",\"2019-02-21T00:00:00\",\"2019-02-22T00:00:00\",\"2019-02-25T00:00:00\",\"2019-02-26T00:00:00\",\"2019-02-27T00:00:00\",\"2019-02-28T00:00:00\",\"2019-03-01T00:00:00\",\"2019-03-04T00:00:00\",\"2019-03-05T00:00:00\",\"2019-03-06T00:00:00\",\"2019-03-07T00:00:00\",\"2019-03-08T00:00:00\",\"2019-03-11T00:00:00\",\"2019-03-12T00:00:00\",\"2019-03-13T00:00:00\",\"2019-03-14T00:00:00\",\"2019-03-15T00:00:00\",\"2019-03-18T00:00:00\",\"2019-03-19T00:00:00\",\"2019-03-20T00:00:00\",\"2019-03-21T00:00:00\",\"2019-03-22T00:00:00\",\"2019-03-25T00:00:00\",\"2019-03-26T00:00:00\",\"2019-03-27T00:00:00\",\"2019-03-28T00:00:00\",\"2019-03-29T00:00:00\",\"2019-04-01T00:00:00\",\"2019-04-02T00:00:00\",\"2019-04-03T00:00:00\",\"2019-04-04T00:00:00\",\"2019-04-05T00:00:00\",\"2019-04-08T00:00:00\",\"2019-04-09T00:00:00\",\"2019-04-10T00:00:00\",\"2019-04-11T00:00:00\",\"2019-04-12T00:00:00\",\"2019-04-15T00:00:00\",\"2019-04-16T00:00:00\",\"2019-04-17T00:00:00\",\"2019-04-18T00:00:00\",\"2019-04-22T00:00:00\",\"2019-04-23T00:00:00\",\"2019-04-24T00:00:00\",\"2019-04-25T00:00:00\",\"2019-04-26T00:00:00\",\"2019-04-29T00:00:00\",\"2019-04-30T00:00:00\",\"2019-05-01T00:00:00\",\"2019-05-02T00:00:00\",\"2019-05-03T00:00:00\",\"2019-05-06T00:00:00\",\"2019-05-07T00:00:00\",\"2019-05-08T00:00:00\",\"2019-05-09T00:00:00\",\"2019-05-10T00:00:00\",\"2019-05-13T00:00:00\",\"2019-05-14T00:00:00\",\"2019-05-15T00:00:00\",\"2019-05-16T00:00:00\",\"2019-05-17T00:00:00\",\"2019-05-20T00:00:00\",\"2019-05-21T00:00:00\",\"2019-05-22T00:00:00\",\"2019-05-23T00:00:00\",\"2019-05-24T00:00:00\",\"2019-05-28T00:00:00\",\"2019-05-29T00:00:00\",\"2019-05-30T00:00:00\",\"2019-05-31T00:00:00\",\"2019-06-03T00:00:00\",\"2019-06-04T00:00:00\",\"2019-06-05T00:00:00\",\"2019-06-06T00:00:00\",\"2019-06-07T00:00:00\",\"2019-06-10T00:00:00\",\"2019-06-11T00:00:00\",\"2019-06-12T00:00:00\",\"2019-06-13T00:00:00\",\"2019-06-14T00:00:00\",\"2019-06-17T00:00:00\",\"2019-06-18T00:00:00\",\"2019-06-19T00:00:00\",\"2019-06-20T00:00:00\",\"2019-06-21T00:00:00\",\"2019-06-24T00:00:00\",\"2019-06-25T00:00:00\",\"2019-06-26T00:00:00\",\"2019-06-27T00:00:00\",\"2019-06-28T00:00:00\",\"2019-07-01T00:00:00\",\"2019-07-02T00:00:00\",\"2019-07-03T00:00:00\",\"2019-07-05T00:00:00\",\"2019-07-08T00:00:00\",\"2019-07-09T00:00:00\",\"2019-07-10T00:00:00\",\"2019-07-11T00:00:00\",\"2019-07-12T00:00:00\",\"2019-07-15T00:00:00\",\"2019-07-16T00:00:00\",\"2019-07-17T00:00:00\",\"2019-07-18T00:00:00\",\"2019-07-19T00:00:00\",\"2019-07-22T00:00:00\",\"2019-07-23T00:00:00\",\"2019-07-24T00:00:00\",\"2019-07-25T00:00:00\",\"2019-07-26T00:00:00\",\"2019-07-29T00:00:00\",\"2019-07-30T00:00:00\",\"2019-07-31T00:00:00\",\"2019-08-01T00:00:00\",\"2019-08-02T00:00:00\",\"2019-08-05T00:00:00\",\"2019-08-06T00:00:00\",\"2019-08-07T00:00:00\",\"2019-08-08T00:00:00\",\"2019-08-09T00:00:00\",\"2019-08-12T00:00:00\",\"2019-08-13T00:00:00\",\"2019-08-14T00:00:00\",\"2019-08-15T00:00:00\",\"2019-08-16T00:00:00\",\"2019-08-19T00:00:00\",\"2019-08-20T00:00:00\",\"2019-08-21T00:00:00\",\"2019-08-22T00:00:00\",\"2019-08-23T00:00:00\",\"2019-08-26T00:00:00\",\"2019-08-27T00:00:00\",\"2019-08-28T00:00:00\",\"2019-08-29T00:00:00\",\"2019-08-30T00:00:00\",\"2019-09-03T00:00:00\",\"2019-09-04T00:00:00\",\"2019-09-05T00:00:00\",\"2019-09-06T00:00:00\",\"2019-09-09T00:00:00\",\"2019-09-10T00:00:00\",\"2019-09-11T00:00:00\",\"2019-09-12T00:00:00\",\"2019-09-13T00:00:00\",\"2019-09-16T00:00:00\",\"2019-09-17T00:00:00\",\"2019-09-18T00:00:00\",\"2019-09-19T00:00:00\",\"2019-09-20T00:00:00\",\"2019-09-23T00:00:00\",\"2019-09-24T00:00:00\",\"2019-09-25T00:00:00\",\"2019-09-26T00:00:00\",\"2019-09-27T00:00:00\",\"2019-09-30T00:00:00\",\"2019-10-01T00:00:00\",\"2019-10-02T00:00:00\",\"2019-10-03T00:00:00\",\"2019-10-04T00:00:00\",\"2019-10-07T00:00:00\",\"2019-10-08T00:00:00\",\"2019-10-09T00:00:00\",\"2019-10-10T00:00:00\",\"2019-10-11T00:00:00\",\"2019-10-14T00:00:00\",\"2019-10-15T00:00:00\",\"2019-10-16T00:00:00\",\"2019-10-17T00:00:00\",\"2019-10-18T00:00:00\",\"2019-10-21T00:00:00\",\"2019-10-22T00:00:00\",\"2019-10-23T00:00:00\",\"2019-10-24T00:00:00\",\"2019-10-25T00:00:00\",\"2019-10-28T00:00:00\",\"2019-10-29T00:00:00\",\"2019-10-30T00:00:00\",\"2019-10-31T00:00:00\",\"2019-11-01T00:00:00\",\"2019-11-04T00:00:00\",\"2019-11-05T00:00:00\",\"2019-11-06T00:00:00\",\"2019-11-07T00:00:00\",\"2019-11-08T00:00:00\",\"2019-11-11T00:00:00\",\"2019-11-12T00:00:00\",\"2019-11-13T00:00:00\",\"2019-11-14T00:00:00\",\"2019-11-15T00:00:00\",\"2019-11-18T00:00:00\",\"2019-11-19T00:00:00\",\"2019-11-20T00:00:00\",\"2019-11-21T00:00:00\",\"2019-11-22T00:00:00\",\"2019-11-25T00:00:00\",\"2019-11-26T00:00:00\",\"2019-11-27T00:00:00\",\"2019-11-29T00:00:00\",\"2019-12-02T00:00:00\",\"2019-12-03T00:00:00\",\"2019-12-04T00:00:00\",\"2019-12-05T00:00:00\",\"2019-12-06T00:00:00\",\"2019-12-09T00:00:00\",\"2019-12-10T00:00:00\",\"2019-12-11T00:00:00\",\"2019-12-12T00:00:00\",\"2019-12-13T00:00:00\",\"2019-12-16T00:00:00\",\"2019-12-17T00:00:00\",\"2019-12-18T00:00:00\",\"2019-12-19T00:00:00\",\"2019-12-20T00:00:00\",\"2019-12-23T00:00:00\",\"2019-12-24T00:00:00\",\"2019-12-26T00:00:00\",\"2019-12-27T00:00:00\",\"2019-12-30T00:00:00\",\"2019-12-31T00:00:00\",\"2020-01-02T00:00:00\",\"2020-01-03T00:00:00\",\"2020-01-06T00:00:00\",\"2020-01-07T00:00:00\",\"2020-01-08T00:00:00\",\"2020-01-09T00:00:00\",\"2020-01-10T00:00:00\",\"2020-01-13T00:00:00\",\"2020-01-14T00:00:00\",\"2020-01-15T00:00:00\",\"2020-01-16T00:00:00\",\"2020-01-17T00:00:00\",\"2020-01-21T00:00:00\",\"2020-01-22T00:00:00\",\"2020-01-23T00:00:00\",\"2020-01-24T00:00:00\",\"2020-01-27T00:00:00\",\"2020-01-28T00:00:00\",\"2020-01-29T00:00:00\",\"2020-01-30T00:00:00\",\"2020-01-31T00:00:00\",\"2020-02-03T00:00:00\",\"2020-02-04T00:00:00\",\"2020-02-05T00:00:00\",\"2020-02-06T00:00:00\",\"2020-02-07T00:00:00\",\"2020-02-10T00:00:00\",\"2020-02-11T00:00:00\",\"2020-02-12T00:00:00\",\"2020-02-13T00:00:00\",\"2020-02-14T00:00:00\",\"2020-02-18T00:00:00\",\"2020-02-19T00:00:00\",\"2020-02-20T00:00:00\",\"2020-02-21T00:00:00\",\"2020-02-24T00:00:00\",\"2020-02-25T00:00:00\",\"2020-02-26T00:00:00\",\"2020-02-27T00:00:00\",\"2020-02-28T00:00:00\",\"2020-03-02T00:00:00\",\"2020-03-03T00:00:00\",\"2020-03-04T00:00:00\",\"2020-03-05T00:00:00\",\"2020-03-06T00:00:00\",\"2020-03-09T00:00:00\",\"2020-03-10T00:00:00\",\"2020-03-11T00:00:00\",\"2020-03-12T00:00:00\",\"2020-03-13T00:00:00\",\"2020-03-16T00:00:00\",\"2020-03-17T00:00:00\",\"2020-03-18T00:00:00\",\"2020-03-19T00:00:00\",\"2020-03-20T00:00:00\",\"2020-03-23T00:00:00\",\"2020-03-24T00:00:00\",\"2020-03-25T00:00:00\",\"2020-03-26T00:00:00\",\"2020-03-27T00:00:00\",\"2020-03-30T00:00:00\",\"2020-03-31T00:00:00\",\"2020-04-01T00:00:00\",\"2020-04-02T00:00:00\",\"2020-04-03T00:00:00\",\"2020-04-06T00:00:00\",\"2020-04-07T00:00:00\",\"2020-04-08T00:00:00\",\"2020-04-09T00:00:00\",\"2020-04-13T00:00:00\",\"2020-04-14T00:00:00\",\"2020-04-15T00:00:00\",\"2020-04-16T00:00:00\",\"2020-04-17T00:00:00\",\"2020-04-20T00:00:00\",\"2020-04-21T00:00:00\",\"2020-04-22T00:00:00\",\"2020-04-23T00:00:00\",\"2020-04-24T00:00:00\",\"2020-04-27T00:00:00\",\"2020-04-28T00:00:00\",\"2020-04-29T00:00:00\",\"2020-04-30T00:00:00\",\"2020-05-01T00:00:00\",\"2020-05-04T00:00:00\",\"2020-05-05T00:00:00\",\"2020-05-06T00:00:00\",\"2020-05-07T00:00:00\",\"2020-05-08T00:00:00\",\"2020-05-11T00:00:00\",\"2020-05-12T00:00:00\",\"2020-05-13T00:00:00\",\"2020-05-14T00:00:00\",\"2020-05-15T00:00:00\",\"2020-05-18T00:00:00\",\"2020-05-19T00:00:00\",\"2020-05-20T00:00:00\",\"2020-05-21T00:00:00\",\"2020-05-22T00:00:00\",\"2020-05-26T00:00:00\",\"2020-05-27T00:00:00\",\"2020-05-28T00:00:00\",\"2020-05-29T00:00:00\",\"2020-06-01T00:00:00\",\"2020-06-02T00:00:00\",\"2020-06-03T00:00:00\",\"2020-06-04T00:00:00\",\"2020-06-05T00:00:00\",\"2020-06-08T00:00:00\",\"2020-06-09T00:00:00\",\"2020-06-10T00:00:00\",\"2020-06-11T00:00:00\",\"2020-06-12T00:00:00\",\"2020-06-15T00:00:00\",\"2020-06-16T00:00:00\",\"2020-06-17T00:00:00\",\"2020-06-18T00:00:00\",\"2020-06-19T00:00:00\",\"2020-06-22T00:00:00\",\"2020-06-23T00:00:00\",\"2020-06-24T00:00:00\",\"2020-06-25T00:00:00\",\"2020-06-26T00:00:00\",\"2020-06-29T00:00:00\",\"2020-06-30T00:00:00\",\"2020-07-01T00:00:00\",\"2020-07-02T00:00:00\",\"2020-07-06T00:00:00\",\"2020-07-07T00:00:00\",\"2020-07-08T00:00:00\",\"2020-07-09T00:00:00\",\"2020-07-10T00:00:00\",\"2020-07-13T00:00:00\",\"2020-07-14T00:00:00\",\"2020-07-15T00:00:00\",\"2020-07-16T00:00:00\",\"2020-07-17T00:00:00\",\"2020-07-20T00:00:00\",\"2020-07-21T00:00:00\",\"2020-07-22T00:00:00\",\"2020-07-23T00:00:00\",\"2020-07-24T00:00:00\",\"2020-07-27T00:00:00\",\"2020-07-28T00:00:00\",\"2020-07-29T00:00:00\",\"2020-07-30T00:00:00\",\"2020-07-31T00:00:00\",\"2020-08-03T00:00:00\",\"2020-08-04T00:00:00\",\"2020-08-05T00:00:00\",\"2020-08-06T00:00:00\",\"2020-08-07T00:00:00\",\"2020-08-10T00:00:00\",\"2020-08-11T00:00:00\",\"2020-08-12T00:00:00\",\"2020-08-13T00:00:00\",\"2020-08-14T00:00:00\",\"2020-08-17T00:00:00\",\"2020-08-18T00:00:00\",\"2020-08-19T00:00:00\",\"2020-08-20T00:00:00\",\"2020-08-21T00:00:00\",\"2020-08-24T00:00:00\",\"2020-08-25T00:00:00\",\"2020-08-26T00:00:00\",\"2020-08-27T00:00:00\",\"2020-08-28T00:00:00\",\"2020-08-31T00:00:00\",\"2020-09-01T00:00:00\",\"2020-09-02T00:00:00\",\"2020-09-03T00:00:00\",\"2020-09-04T00:00:00\",\"2020-09-08T00:00:00\",\"2020-09-09T00:00:00\",\"2020-09-10T00:00:00\",\"2020-09-11T00:00:00\",\"2020-09-14T00:00:00\",\"2020-09-15T00:00:00\",\"2020-09-16T00:00:00\",\"2020-09-17T00:00:00\",\"2020-09-18T00:00:00\",\"2020-09-21T00:00:00\",\"2020-09-22T00:00:00\",\"2020-09-23T00:00:00\",\"2020-09-24T00:00:00\",\"2020-09-25T00:00:00\",\"2020-09-28T00:00:00\",\"2020-09-29T00:00:00\",\"2020-09-30T00:00:00\",\"2020-10-01T00:00:00\",\"2020-10-02T00:00:00\",\"2020-10-05T00:00:00\",\"2020-10-06T00:00:00\",\"2020-10-07T00:00:00\",\"2020-10-08T00:00:00\",\"2020-10-09T00:00:00\",\"2020-10-12T00:00:00\",\"2020-10-13T00:00:00\",\"2020-10-14T00:00:00\",\"2020-10-15T00:00:00\",\"2020-10-16T00:00:00\",\"2020-10-19T00:00:00\",\"2020-10-20T00:00:00\",\"2020-10-21T00:00:00\",\"2020-10-22T00:00:00\",\"2020-10-23T00:00:00\",\"2020-10-26T00:00:00\",\"2020-10-27T00:00:00\",\"2020-10-28T00:00:00\",\"2020-10-29T00:00:00\",\"2020-10-30T00:00:00\",\"2020-11-02T00:00:00\",\"2020-11-03T00:00:00\",\"2020-11-04T00:00:00\",\"2020-11-05T00:00:00\",\"2020-11-06T00:00:00\",\"2020-11-09T00:00:00\",\"2020-11-10T00:00:00\",\"2020-11-11T00:00:00\",\"2020-11-12T00:00:00\",\"2020-11-13T00:00:00\",\"2020-11-16T00:00:00\",\"2020-11-17T00:00:00\",\"2020-11-18T00:00:00\",\"2020-11-19T00:00:00\",\"2020-11-20T00:00:00\",\"2020-11-23T00:00:00\",\"2020-11-24T00:00:00\",\"2020-11-25T00:00:00\",\"2020-11-27T00:00:00\",\"2020-11-30T00:00:00\",\"2020-12-01T00:00:00\",\"2020-12-02T00:00:00\",\"2020-12-03T00:00:00\",\"2020-12-04T00:00:00\",\"2020-12-07T00:00:00\",\"2020-12-08T00:00:00\",\"2020-12-09T00:00:00\",\"2020-12-10T00:00:00\",\"2020-12-11T00:00:00\",\"2020-12-14T00:00:00\",\"2020-12-15T00:00:00\",\"2020-12-16T00:00:00\",\"2020-12-17T00:00:00\",\"2020-12-18T00:00:00\",\"2020-12-21T00:00:00\",\"2020-12-22T00:00:00\",\"2020-12-23T00:00:00\",\"2020-12-24T00:00:00\",\"2020-12-28T00:00:00\",\"2020-12-29T00:00:00\",\"2020-12-30T00:00:00\",\"2020-12-31T00:00:00\",\"2021-01-04T00:00:00\",\"2021-01-05T00:00:00\",\"2021-01-06T00:00:00\",\"2021-01-07T00:00:00\",\"2021-01-08T00:00:00\",\"2021-01-11T00:00:00\",\"2021-01-12T00:00:00\",\"2021-01-13T00:00:00\",\"2021-01-14T00:00:00\",\"2021-01-15T00:00:00\",\"2021-01-19T00:00:00\",\"2021-01-20T00:00:00\",\"2021-01-21T00:00:00\",\"2021-01-22T00:00:00\",\"2021-01-25T00:00:00\",\"2021-01-26T00:00:00\",\"2021-01-27T00:00:00\",\"2021-01-28T00:00:00\",\"2021-01-29T00:00:00\",\"2021-02-01T00:00:00\",\"2021-02-02T00:00:00\",\"2021-02-03T00:00:00\",\"2021-02-04T00:00:00\",\"2021-02-05T00:00:00\",\"2021-02-08T00:00:00\",\"2021-02-09T00:00:00\",\"2021-02-10T00:00:00\",\"2021-02-11T00:00:00\",\"2021-02-12T00:00:00\",\"2021-02-16T00:00:00\",\"2021-02-17T00:00:00\",\"2021-02-18T00:00:00\",\"2021-02-19T00:00:00\",\"2021-02-22T00:00:00\",\"2021-02-23T00:00:00\",\"2021-02-24T00:00:00\",\"2021-02-25T00:00:00\",\"2021-02-26T00:00:00\",\"2021-03-01T00:00:00\",\"2021-03-02T00:00:00\",\"2021-03-03T00:00:00\",\"2021-03-04T00:00:00\",\"2021-03-05T00:00:00\",\"2021-03-08T00:00:00\",\"2021-03-09T00:00:00\",\"2021-03-10T00:00:00\",\"2021-03-11T00:00:00\",\"2021-03-12T00:00:00\",\"2021-03-15T00:00:00\",\"2021-03-16T00:00:00\",\"2021-03-17T00:00:00\",\"2021-03-18T00:00:00\",\"2021-03-19T00:00:00\",\"2021-03-22T00:00:00\",\"2021-03-23T00:00:00\",\"2021-03-24T00:00:00\",\"2021-03-25T00:00:00\",\"2021-03-26T00:00:00\",\"2021-03-29T00:00:00\",\"2021-03-30T00:00:00\",\"2021-03-31T00:00:00\",\"2021-04-01T00:00:00\",\"2021-04-05T00:00:00\",\"2021-04-06T00:00:00\",\"2021-04-07T00:00:00\",\"2021-04-08T00:00:00\",\"2021-04-09T00:00:00\",\"2021-04-12T00:00:00\",\"2021-04-13T00:00:00\",\"2021-04-14T00:00:00\",\"2021-04-15T00:00:00\",\"2021-04-16T00:00:00\",\"2021-04-19T00:00:00\",\"2021-04-20T00:00:00\",\"2021-04-21T00:00:00\",\"2021-04-22T00:00:00\",\"2021-04-23T00:00:00\",\"2021-04-26T00:00:00\",\"2021-04-27T00:00:00\",\"2021-04-28T00:00:00\",\"2021-04-29T00:00:00\",\"2021-04-30T00:00:00\",\"2021-05-03T00:00:00\",\"2021-05-04T00:00:00\",\"2021-05-05T00:00:00\",\"2021-05-06T00:00:00\",\"2021-05-07T00:00:00\",\"2021-05-10T00:00:00\",\"2021-05-11T00:00:00\",\"2021-05-12T00:00:00\",\"2021-05-13T00:00:00\",\"2021-05-14T00:00:00\",\"2021-05-17T00:00:00\",\"2021-05-18T00:00:00\",\"2021-05-19T00:00:00\",\"2021-05-20T00:00:00\",\"2021-05-21T00:00:00\",\"2021-05-24T00:00:00\",\"2021-05-25T00:00:00\",\"2021-05-26T00:00:00\",\"2021-05-27T00:00:00\",\"2021-05-28T00:00:00\",\"2021-06-01T00:00:00\",\"2021-06-02T00:00:00\",\"2021-06-03T00:00:00\",\"2021-06-04T00:00:00\",\"2021-06-07T00:00:00\",\"2021-06-08T00:00:00\",\"2021-06-09T00:00:00\",\"2021-06-10T00:00:00\",\"2021-06-11T00:00:00\",\"2021-06-14T00:00:00\",\"2021-06-15T00:00:00\",\"2021-06-16T00:00:00\",\"2021-06-17T00:00:00\",\"2021-06-18T00:00:00\",\"2021-06-21T00:00:00\",\"2021-06-22T00:00:00\",\"2021-06-23T00:00:00\",\"2021-06-24T00:00:00\",\"2021-06-25T00:00:00\",\"2021-06-28T00:00:00\",\"2021-06-29T00:00:00\",\"2021-06-30T00:00:00\",\"2021-07-01T00:00:00\",\"2021-07-02T00:00:00\",\"2021-07-06T00:00:00\",\"2021-07-07T00:00:00\",\"2021-07-08T00:00:00\",\"2021-07-09T00:00:00\",\"2021-07-12T00:00:00\",\"2021-07-13T00:00:00\",\"2021-07-14T00:00:00\",\"2021-07-15T00:00:00\",\"2021-07-16T00:00:00\",\"2021-07-19T00:00:00\",\"2021-07-20T00:00:00\",\"2021-07-21T00:00:00\",\"2021-07-22T00:00:00\",\"2021-07-23T00:00:00\",\"2021-07-26T00:00:00\",\"2021-07-27T00:00:00\",\"2021-07-28T00:00:00\",\"2021-07-29T00:00:00\",\"2021-07-30T00:00:00\",\"2021-08-02T00:00:00\",\"2021-08-03T00:00:00\",\"2021-08-04T00:00:00\",\"2021-08-05T00:00:00\",\"2021-08-06T00:00:00\",\"2021-08-09T00:00:00\",\"2021-08-10T00:00:00\",\"2021-08-11T00:00:00\",\"2021-08-12T00:00:00\",\"2021-08-13T00:00:00\",\"2021-08-16T00:00:00\",\"2021-08-17T00:00:00\",\"2021-08-18T00:00:00\",\"2021-08-19T00:00:00\",\"2021-08-20T00:00:00\",\"2021-08-23T00:00:00\",\"2021-08-24T00:00:00\",\"2021-08-25T00:00:00\",\"2021-08-26T00:00:00\",\"2021-08-27T00:00:00\",\"2021-08-30T00:00:00\",\"2021-08-31T00:00:00\",\"2021-09-01T00:00:00\",\"2021-09-02T00:00:00\",\"2021-09-03T00:00:00\",\"2021-09-07T00:00:00\",\"2021-09-08T00:00:00\",\"2021-09-09T00:00:00\",\"2021-09-10T00:00:00\",\"2021-09-13T00:00:00\",\"2021-09-14T00:00:00\",\"2021-09-15T00:00:00\",\"2021-09-16T00:00:00\",\"2021-09-17T00:00:00\",\"2021-09-20T00:00:00\",\"2021-09-21T00:00:00\",\"2021-09-22T00:00:00\",\"2021-09-23T00:00:00\",\"2021-09-24T00:00:00\",\"2021-09-27T00:00:00\",\"2021-09-28T00:00:00\",\"2021-09-29T00:00:00\",\"2021-09-30T00:00:00\",\"2021-10-01T00:00:00\",\"2021-10-04T00:00:00\",\"2021-10-05T00:00:00\",\"2021-10-06T00:00:00\",\"2021-10-07T00:00:00\",\"2021-10-08T00:00:00\",\"2021-10-11T00:00:00\",\"2021-10-12T00:00:00\",\"2021-10-13T00:00:00\",\"2021-10-14T00:00:00\",\"2021-10-15T00:00:00\",\"2021-10-18T00:00:00\",\"2021-10-19T00:00:00\",\"2021-10-20T00:00:00\",\"2021-10-21T00:00:00\",\"2021-10-22T00:00:00\",\"2021-10-25T00:00:00\",\"2021-10-26T00:00:00\",\"2021-10-27T00:00:00\",\"2021-10-28T00:00:00\",\"2021-10-29T00:00:00\",\"2021-11-01T00:00:00\",\"2021-11-02T00:00:00\",\"2021-11-03T00:00:00\",\"2021-11-04T00:00:00\",\"2021-11-05T00:00:00\",\"2021-11-08T00:00:00\",\"2021-11-09T00:00:00\",\"2021-11-10T00:00:00\",\"2021-11-11T00:00:00\",\"2021-11-12T00:00:00\",\"2021-11-15T00:00:00\",\"2021-11-16T00:00:00\",\"2021-11-17T00:00:00\",\"2021-11-18T00:00:00\",\"2021-11-19T00:00:00\",\"2021-11-22T00:00:00\",\"2021-11-23T00:00:00\",\"2021-11-24T00:00:00\",\"2021-11-26T00:00:00\",\"2021-11-29T00:00:00\",\"2021-11-30T00:00:00\",\"2021-12-01T00:00:00\",\"2021-12-02T00:00:00\",\"2021-12-03T00:00:00\"],\"xaxis\":\"x\",\"y\":[-1.033876665271059,0.7183769002584981,-1.2134717108363091,1.1163954345978695,-0.7353636371164427,-0.3154996890769155,0.11163732579118602,-0.8542849936790375,-0.36646712817827876,0.16745969460743027,-1.2401682326202064,-0.8664169215606776,-1.4877176878983747,-0.32035461224750605,2.1526979884292388,0.07523466279335622,-0.3082228028916987,-0.191726925836889,0.7353634884669731,-0.4344212411556114,0.9052488412159434,-0.1868757163676591,0.2888069050386548,0.4902436203999798,0.3155034071127787,-0.14319248814874186,-0.20629165386548465,0.6795450125629259,0.45141157526188636,0.4028734904163187,-0.16503038150295168,-0.7547796377288734,-0.05581865312218781,-0.3421999116511145,0.5533428362568387,0.12377647843553063,-0.38103193230082155,0.4853887283856153,0.08008958462852434,-0.10678609483353796,0.9319454501865678,0.3203546374963011,-0.09950186604297784,-0.35433166814998174,0.34610356615735327,-0.3948536420913129,0.1925491924430247,-0.29492125966859106,0.26567048474135646,-0.20230068660816158,0.2973536003590098,0.20473671974917806,-0.1803654259354346,0.3387918137876085,0.017059530664411682,0.1511146424140719,0.40459769414824365,-0.2851735012876233,0.16817787834162345,0.03899853118237928,-0.09993232778568739,-0.03655879454097999,-0.3339161021634922,0.6312732522354594,0.8311341934027112,0.22179992136485538,-0.13161540175980946,-0.0414345414065167,0.3095410287322977,0.5410925515222047,-0.44359986540767693,0.4704108057728078,1.2357356635771808,-1.0456225041640153,-0.6751439318047616,-1.1869931936737146,-0.06824556109530988,-0.05605805945274511,0.029247033958846202,-0.09749258904574987,0.7141460768737673,0.5118454222204534,0.21936392417521233,0.1340551262613232,0.8969476933258065,-0.19986466181354245,0.4728468886509063,-0.4630990949777214,-0.08043306964879093,0.1584263971353863,-0.05118602935640837,0.8750123488960924,0.18036538891305298,0.41434917453972275,0.7433932267196823,-0.048746294982770166,-0.3777903378440115,-0.14623891939188383,0.05118602784509818,-0.5825270823993662,0.15599039936859782,-0.1681778930712312,0.20961243212178715,1.0212511191933018,-0.7360815649712507,0.243735247894044,0.07799705762145237,-0.058723069460853594,-0.4869022506792646,0.5505161417134303,1.1377319080805535,0.04159410707043065,0.5064766303015276,-0.10521169327250135,0.33765108898888485,-0.45998802378521475,-0.03425419138320507,-0.30094776876575224,-0.1688255682549169,0.23488852224835455,0.08563734626987696,-0.28381885240499116,-0.5627505829372836,1.0276293919544273,-0.4257338311368599,0.5236018697791849,0.8906125839482968,0.18839990552996255,-0.01223443847733563,0.05872307099635066,-0.13457135086887462,0.29116245803218277,0.2422284118770932,0.5872156779152462,-0.4428590258374996,-0.22265036095523527,-0.004894522461249551,0.009789045507275773,-0.6997635943556162,0.49668759410318586,-0.13456763752356693,-0.18595076023701296,-0.3963704360391276,0.3229675238034275,0.2764826026150331,0.21531044352384754,-0.19329070758277567,0.4991367049441493,0.33764735956098235,-0.38169060968660773,0.20797428465360923,0.27403724989020617,-0.022019748186608012,-0.17127094822053124,0.4061594948314138,-0.7829555042213769,0.8734873938729351,0.0929735327202863,0.24467381093214158,-0.4575389086389663,0.06361759225591612,0.29849861864965277,0.004894522523130718,-0.8269988881870773,-1.338366234434794,-0.3694561823553002,-1.1377355356117675,0.16882555382586162,0.8881635558468659,0.790295470246491,-0.07613646900485094,0.2112191340822207,1.9525468273116076,-0.10069831620968728,-0.4224382743911761,0.5452399703106892,-0.066310235790084,-0.12771485317482956,-0.08596271790361953,-0.17928948702385838,-1.6676458426390397,0.15473138159846656,-0.9087321099385264,0.3512111432917493,0.12525642080758104,-0.3487564739966942,-0.1792894861395098,0.19648351808324094,0.3143721488618496,-0.19402884354399674,-0.16455388777035296,0.6975129523077896,1.3557284399275389,-0.41998362844151416,-0.30700432913643994,0.5329591182761817,0.18174418256059255,0.4199835758428918,-0.2578806581362372,-0.8964549803795521,-0.05648775294863384,-0.8227730887457412,0.6090955720857707,-0.027016532545133032,-0.42243449965131674,0.7540043363414313,-0.11789236675041082,-1.006971953724836,0.5869959054313725,0.3364755191628461,0.1940251200581855,-0.34876025836121016,7.105427357601002e-15,0.5305044029997177,0.8006696944771718,0.2382356785868538,-0.26279378056424463,0.24560347056890208,0.04666525533195909,0.4470001493089697,0.7343519071803257,-0.2947234079393013,0.2652484796582044,-0.22840943972867223,0.8399634367468067,0.4003348577283816,-1.3950297070356115,-0.368405204347404,0.3733146193351118,1.542393210182496,0.04175589011475722,0.01965247550845106,0.1154339254975838,0.1699757831672315,0.3571972523911455,0.9607353633140718,0.10100064088230454,0.8227774419663518,-0.2734347134293955,0.5123931611305323,0.3202475932511675,-0.39660515595765844,-0.578902576803145,-0.41385078330471003,-0.19953550731899838,0.9016082323034027,-0.6528017251126386,0.5567326819608525,0.16012005519097272,-0.7661164652090093,0.2808321395428237,0.16504415310282639,0.4409446253018672,0.7956760239973022,-0.7587265164088421,-0.029559696654956724,0.48282588181112374,0.9065324719246348,0.9089983654217804,0.7045311630602811,0.20692541263129272,-0.01477984906914287,0.12809454946648202,-0.6872929095548557,0.8548030351914946,-0.10346645723448944,1.253873937066416,-0.32517174652372205,0.5074614696130482,0.9163881750300078,1.0124646460953244,0.06897513747775008,1.4805031982868826,-0.3571897019990331,1.4854349635555337,0.5887582576516195,-0.06651683433436517,1.310527461253372,-0.9902949411113582,-0.125636244573883,0.4064608556872287,0.606003772608247,-0.1527301063648423,-0.21677362830925517,0.32270589889373014,-0.47790186572463256,-0.27343471215479553,1.2538740209521109,-0.027101401137983316,0.8203116420075247,-2.8132079447680667,1.074050023328212,0.8720487413922768,-0.509919812533056,0.6503359130934854,-0.5778048195870866,1.819839465591599,-0.9852378413784919,1.4148856064990696,0.1679074898049464,0.051859773886533844,0.8988123409286572,0.893868990398019,-0.5753406219212422,-1.375376728769396,0.22716721256627181,-3.17793742008503,1.5111827501861512,-1.8716989435957174,3.9754940016886735,4.081678091598661,-3.5433818366931007,1.555627702904431,-0.6420002146678456,1.735885881673255,0.597562916188707,2.024784481806975,-0.48397929791563854,-1.9037970111998064,3.2297820776099115,0.06420303317353415,1.32105280967739,1.7037843978528429,-0.6444757183529077,-4.429840206830377,-0.9160951763451379,2.5976569631122004,-1.2914190440499027,2.9433509362126813,-1.2370952414497225,1.0049847103458305,-0.32347555033388176,-1.380312396682207,1.1333869405763721,-0.3432262113446356,2.8569289650409857,-2.807541502804014,0.8222660510274693,-0.175322507117059,1.2198123688599054,1.7408216955820421,0.501258455093506,-0.17037919022294545,-0.46669281122736095,-0.2518687902663146,-1.9531816030851417,0.6148495516883656,-0.20741648838807691,1.4247571881531513,0.3382942684456367,-1.60501564384721,0.7407763956676519,0.9481928933714983,0.6963316203885626,0.9852303202818149,0.6173137490326184,0.04198065125024186,0.12839853940700152,1.1116943505020913,1.7108749973211417,-1.589548622592872,-1.1141725832810607,1.2453970589679386,1.8222875172463375,0.44318758300434524,-0.4679485740812197,0.6313690587395797,-0.44814434265077807,0.7724993963659728,-1.6762079640103593,0.48775273353427906,0.36644166542944845,-0.3243474196837184,1.0151364612769953,0.6412672631779373,0.11389107674681043,-0.5125212263492784,2.017888760760272,0.7947743075550022,2.9339816512727452,1.2231144678077754,-3.3202349737733527,-1.4657590985994915,2.411562288451435,0.15350699949247826,-0.8814336609503926,0.07923186779241576,-1.2181653142190214,1.8643817119062334,0.6264122343805099,-1.2231142573260456,1.0250348552565782,-2.669061968100678,2.111975737523096,1.1686434930121692,-0.2500722826819697,-0.9260064194924666,0.953238022338212,-0.6734557168016266,1.1513101747338794,-0.5050861060622367,0.5793687753963894,-1.7702948525555797,2.196164415493058,-1.2528244352545528,-0.039615931048828656,-0.6536515288882043,1.921323365996443,-2.1515916753800184,0.5744196715448311,-4.112531045609273,1.6118311286989524,1.089411631354551,-1.1042666819167835,1.2775854254993533,1.9832296624217491,3.3425176164985118,0.73040505304688,0.527376187483469,0.6784048525321538,3.463835958886179,-2.076096132830557,0.12650298868253174,-2.574659531795561,2.4928096940692797,0.575455301310015,0.07689188943787428,-1.4435964743179284,1.2005142527952302,-0.272845850132029,2.505208595776253,5.067469273101764,-2.817734335270586,0.12649541419510513,0.33981400371979475,-2.11578360925202,-1.1955485018363134,1.4485470276218706,1.4088671564858828,-6.141481168539855,-5.982739084816217,0.8830228630838803,-1.1211395526065644,0.059527254040617095,-6.816150159726149,-2.5498538211494406,0.6349825755067684,-2.7681307023511152,-3.075705912983665,0.6151351646060306,-3.5320991348378925,5.496574105694918,-0.8631829612283184,-4.464725446857656,3.0260947602003796,3.819819045819358,-0.04961108892560162,-0.4564008884980808,2.0041625138827612,-0.8433355371039255,0.1289782404110582,2.5696939760359356,-2.5200829457137672,0.45639326270708125,-1.2699651762634545,1.676754905327698,4.305983925462655,-4.137310611544521,0.1885130422293031,1.9743986873561852,-2.2422865418084257,-3.94879768496844,1.2997363467004135,0.198436778572173,-1.6866710135827958,-1.3394161531838478,1.0318486806804117,1.1012995623488564,-3.819826972782735,2.9268725531596544,-2.1827517512585786,-0.33733875438885264,0.773884593328745,0.8036482600359562,1.0715359153457769,0.36773572421986955,-4.154389182702559,0.4174248394275537,2.285903321878351,-0.4074915682234632,-0.17889744447093392,1.371549531909622,-0.1590233145502964,-0.5764481340553544,1.0435696284010447,-1.2920379488216867,-3.309598786090902,1.2522745629254644,0.4770547986421576,0.019874123474522776,2.0672577205523623,1.6995218935911396,1.05351052696534,-0.5764405926271081,-0.34785401824802875,1.431179539373872,0.009933270405099393,-2.7331508973716865,2.723209786390413,-0.019874123383260667,-0.814975600637581,3.5183112519537616,0.39754311992751923,-0.19877156877421953,-2.285910916526177,3.190331364117725,0.2683499242555172,-1.1926445053597945,0.6460113171301884,2.683454180488212,-3.1605242319920706,-1.8486045575109245,-1.3814828986247107,-4.084818720342213,2.1070058161445786,-1.113140536447517,2.5443126011168857,-0.37766143794564755,-0.20871999050260115,0.2981649058245637,2.1169544543591314,-1.8784194535993493,-1.6299512467116273,0.04969668150967266,3.3493472362398364,3.0511821045377587,2.7729141753274575,-0.14909004859347874,-0.437306515261497,-1.361601104069024,-2.415119002754352,-3.846283701244033,0.38760988339035407,-0.7354562942623772,-1.8088407966222064,1.083317985149904,-0.5872728857733307,0.8759200475402906,-0.6071690356790214,-1.0849368316365542,-0.7664147242321917,1.0152543401412117,-2.289326651309267,-0.4081004679839566,0.5076423682898792,-0.3682928227953255,-2.0006643513943914,2.0902506355410537,0.40809289301139984,-3.6728740777259077,-1.323820617760532,4.021247729502477,-3.2747292412396263,-2.7372349682298136,-1.612482945070468,0.43795242037919024,-4.548786247472577,2.0504353796165447,-1.7020615057905673,-0.5773095308147589,0.6270729267151722,2.5680181870528287,-0.1293938167234927,0.7067033774682017,-2.339090051536388,0.0895785878294788,3.045793607191939,-0.786333867790006,-2.7173310462508056,1.0451214978654093,0.8560086257785997,-0.2587952401871121,-0.2090242888222491,0.49767904639753624,-0.6569399928855688,2.020575785944615,-0.28865477922833804,2.060391125931446,1.4034585692359087,3.1851425656744254,-1.2740571122749884,1.9807529342971861,-2.8964957334921735,0.6768361757055743,-0.13934954278335,1.3238282288161543,-1.9011377476384155,1.1347076581505178,-1.094884882935446,2.1499773125679837,-0.10949000327173053,-0.6171171612298849,-0.7266071253928317,-2.9761262405046125,-0.31850668139182403,0.49767900382920516,-3.324499981852739,-1.0948848630637826,1.8414186492301354,-0.6381106907224137,-2.552450112476265,2.4028913276638093,-0.6281456457432881,0.38884842003737674,1.1964555293059504,-0.5483799066951462,-1.704952580865907,1.525483498167361,2.0738557244339546,-2.38294613878692,1.0867795264053655,-0.9172830935132623,-0.10967597705726462,-1.156580243042626,-0.9571659705206486,-0.797642080303433,0.7776968311507062,-1.1366350730419583,1.8146285922522054,-0.2691998387756769,0.13958622788453567,-0.07976573630365635,-0.9073104981658702,0.8175797356229424,2.652145888356088,-0.2991177057724599,-0.21935196057827966,1.9841174862351352,-0.249262207293782,1.994097628336732,1.8445311622730003,-0.06980072575788654,-1.0369240350953532,-0.3489731969726506,1.3659521083327206,1.5254835435295604,0.7876771080916569,0.6680208979055351,2.0539334519554586,1.9442421312349154,1.0269742891884732,1.6551046640766742,2.3530359508751815,-1.7049602724879094,1.605249211879709,1.0468890772581858,-0.757766863285724,-2.0638983761755867,-1.296166514998589,2.682048449587313,-0.12962122318074876,0.857462537716458,1.007013911240847,0.7178764366909718,-2.343055493968393,0.16949648033710218,0.947193338095019,1.4756279269660126,-0.837517340804709,1.5454286626267617,-0.3190629377387211,0.07976573671552956,-0.20970065332630838,-0.10984029973653264,-0.8387721775825128,-0.18972553989121366,2.696062195824311,0.12981542519935374,2.57624194430133,-0.03993500386906135,-3.43498903949299,1.6675644238314646,0.748907023223353,1.3979689427550284,0.1697504228002913,-1.4478837502889519,-0.8088323771149533,1.1183782003407146,4.113990973976314,-0.8287922374690879,-0.31954096347311634,-0.21968060061990968,0.5392215646414797,1.7174946251875554,-1.8672699504297157,-1.4179287423936842,-6.021210935499681,-1.0784279294754526,-2.2267610284181956,0.4693162494918397,0.3494807772075603,-2.7559874735189,-0.8587472922180268,-0.49927131645387135,1.3979688478490857,0.17974561067782702,1.2581582755491638,-0.09986036095185113,-1.3380434462298751,0.3594759840331392,-2.1568558990705355,0.7489070149785277,-2.6161768980011004,1.6176342627564964,2.52631175689217,0.22966055473145275,-1.1283580967107696,0.5392063629366817,-1.7174946626909957,-0.3295209085317481,1.6475893404791009,1.0684327696684193,3.095488254123893,1.7474496198893519,0.5591814837259506,0.669021724435396,-0.998542672271725,-0.039935003729027585,-0.009979941737782383,-0.5092512924187247,2.7459922302893744,2.5762419263439824,-0.029955060590737048,1.3580186472176763,1.0984030807761656,-0.6190915687207053,-0.6100006103515625,-0.970001220703125,0.6100006103515625,-2.100006103515625,-1.0900115966796875,1.5600128173828125,-0.3699951171875,1.05999755859375,2.4900054931640625,4.1599884033203125,2.9000091552734375,-0.6599884033203125,0.290008544921875,1.19000244140625,-2.760009765625,0.8700103759765625,5.30999755859375,-2.709991455078125,5.019989013671875,-2.1800079345703125],\"yaxis\":\"y\"}],                        {\"legend\":{\"title\":{\"text\":\"variable\"},\"tracegroupgap\":0},\"template\":{\"data\":{\"bar\":[{\"error_x\":{\"color\":\"#2a3f5f\"},\"error_y\":{\"color\":\"#2a3f5f\"},\"marker\":{\"line\":{\"color\":\"#E5ECF6\",\"width\":0.5},\"pattern\":{\"fillmode\":\"overlay\",\"size\":10,\"solidity\":0.2}},\"type\":\"bar\"}],\"barpolar\":[{\"marker\":{\"line\":{\"color\":\"#E5ECF6\",\"width\":0.5},\"pattern\":{\"fillmode\":\"overlay\",\"size\":10,\"solidity\":0.2}},\"type\":\"barpolar\"}],\"carpet\":[{\"aaxis\":{\"endlinecolor\":\"#2a3f5f\",\"gridcolor\":\"white\",\"linecolor\":\"white\",\"minorgridcolor\":\"white\",\"startlinecolor\":\"#2a3f5f\"},\"baxis\":{\"endlinecolor\":\"#2a3f5f\",\"gridcolor\":\"white\",\"linecolor\":\"white\",\"minorgridcolor\":\"white\",\"startlinecolor\":\"#2a3f5f\"},\"type\":\"carpet\"}],\"choropleth\":[{\"colorbar\":{\"outlinewidth\":0,\"ticks\":\"\"},\"type\":\"choropleth\"}],\"contour\":[{\"colorbar\":{\"outlinewidth\":0,\"ticks\":\"\"},\"colorscale\":[[0.0,\"#0d0887\"],[0.1111111111111111,\"#46039f\"],[0.2222222222222222,\"#7201a8\"],[0.3333333333333333,\"#9c179e\"],[0.4444444444444444,\"#bd3786\"],[0.5555555555555556,\"#d8576b\"],[0.6666666666666666,\"#ed7953\"],[0.7777777777777778,\"#fb9f3a\"],[0.8888888888888888,\"#fdca26\"],[1.0,\"#f0f921\"]],\"type\":\"contour\"}],\"contourcarpet\":[{\"colorbar\":{\"outlinewidth\":0,\"ticks\":\"\"},\"type\":\"contourcarpet\"}],\"heatmap\":[{\"colorbar\":{\"outlinewidth\":0,\"ticks\":\"\"},\"colorscale\":[[0.0,\"#0d0887\"],[0.1111111111111111,\"#46039f\"],[0.2222222222222222,\"#7201a8\"],[0.3333333333333333,\"#9c179e\"],[0.4444444444444444,\"#bd3786\"],[0.5555555555555556,\"#d8576b\"],[0.6666666666666666,\"#ed7953\"],[0.7777777777777778,\"#fb9f3a\"],[0.8888888888888888,\"#fdca26\"],[1.0,\"#f0f921\"]],\"type\":\"heatmap\"}],\"heatmapgl\":[{\"colorbar\":{\"outlinewidth\":0,\"ticks\":\"\"},\"colorscale\":[[0.0,\"#0d0887\"],[0.1111111111111111,\"#46039f\"],[0.2222222222222222,\"#7201a8\"],[0.3333333333333333,\"#9c179e\"],[0.4444444444444444,\"#bd3786\"],[0.5555555555555556,\"#d8576b\"],[0.6666666666666666,\"#ed7953\"],[0.7777777777777778,\"#fb9f3a\"],[0.8888888888888888,\"#fdca26\"],[1.0,\"#f0f921\"]],\"type\":\"heatmapgl\"}],\"histogram\":[{\"marker\":{\"pattern\":{\"fillmode\":\"overlay\",\"size\":10,\"solidity\":0.2}},\"type\":\"histogram\"}],\"histogram2d\":[{\"colorbar\":{\"outlinewidth\":0,\"ticks\":\"\"},\"colorscale\":[[0.0,\"#0d0887\"],[0.1111111111111111,\"#46039f\"],[0.2222222222222222,\"#7201a8\"],[0.3333333333333333,\"#9c179e\"],[0.4444444444444444,\"#bd3786\"],[0.5555555555555556,\"#d8576b\"],[0.6666666666666666,\"#ed7953\"],[0.7777777777777778,\"#fb9f3a\"],[0.8888888888888888,\"#fdca26\"],[1.0,\"#f0f921\"]],\"type\":\"histogram2d\"}],\"histogram2dcontour\":[{\"colorbar\":{\"outlinewidth\":0,\"ticks\":\"\"},\"colorscale\":[[0.0,\"#0d0887\"],[0.1111111111111111,\"#46039f\"],[0.2222222222222222,\"#7201a8\"],[0.3333333333333333,\"#9c179e\"],[0.4444444444444444,\"#bd3786\"],[0.5555555555555556,\"#d8576b\"],[0.6666666666666666,\"#ed7953\"],[0.7777777777777778,\"#fb9f3a\"],[0.8888888888888888,\"#fdca26\"],[1.0,\"#f0f921\"]],\"type\":\"histogram2dcontour\"}],\"mesh3d\":[{\"colorbar\":{\"outlinewidth\":0,\"ticks\":\"\"},\"type\":\"mesh3d\"}],\"parcoords\":[{\"line\":{\"colorbar\":{\"outlinewidth\":0,\"ticks\":\"\"}},\"type\":\"parcoords\"}],\"pie\":[{\"automargin\":true,\"type\":\"pie\"}],\"scatter\":[{\"marker\":{\"colorbar\":{\"outlinewidth\":0,\"ticks\":\"\"}},\"type\":\"scatter\"}],\"scatter3d\":[{\"line\":{\"colorbar\":{\"outlinewidth\":0,\"ticks\":\"\"}},\"marker\":{\"colorbar\":{\"outlinewidth\":0,\"ticks\":\"\"}},\"type\":\"scatter3d\"}],\"scattercarpet\":[{\"marker\":{\"colorbar\":{\"outlinewidth\":0,\"ticks\":\"\"}},\"type\":\"scattercarpet\"}],\"scattergeo\":[{\"marker\":{\"colorbar\":{\"outlinewidth\":0,\"ticks\":\"\"}},\"type\":\"scattergeo\"}],\"scattergl\":[{\"marker\":{\"colorbar\":{\"outlinewidth\":0,\"ticks\":\"\"}},\"type\":\"scattergl\"}],\"scattermapbox\":[{\"marker\":{\"colorbar\":{\"outlinewidth\":0,\"ticks\":\"\"}},\"type\":\"scattermapbox\"}],\"scatterpolar\":[{\"marker\":{\"colorbar\":{\"outlinewidth\":0,\"ticks\":\"\"}},\"type\":\"scatterpolar\"}],\"scatterpolargl\":[{\"marker\":{\"colorbar\":{\"outlinewidth\":0,\"ticks\":\"\"}},\"type\":\"scatterpolargl\"}],\"scatterternary\":[{\"marker\":{\"colorbar\":{\"outlinewidth\":0,\"ticks\":\"\"}},\"type\":\"scatterternary\"}],\"surface\":[{\"colorbar\":{\"outlinewidth\":0,\"ticks\":\"\"},\"colorscale\":[[0.0,\"#0d0887\"],[0.1111111111111111,\"#46039f\"],[0.2222222222222222,\"#7201a8\"],[0.3333333333333333,\"#9c179e\"],[0.4444444444444444,\"#bd3786\"],[0.5555555555555556,\"#d8576b\"],[0.6666666666666666,\"#ed7953\"],[0.7777777777777778,\"#fb9f3a\"],[0.8888888888888888,\"#fdca26\"],[1.0,\"#f0f921\"]],\"type\":\"surface\"}],\"table\":[{\"cells\":{\"fill\":{\"color\":\"#EBF0F8\"},\"line\":{\"color\":\"white\"}},\"header\":{\"fill\":{\"color\":\"#C8D4E3\"},\"line\":{\"color\":\"white\"}},\"type\":\"table\"}]},\"layout\":{\"annotationdefaults\":{\"arrowcolor\":\"#2a3f5f\",\"arrowhead\":0,\"arrowwidth\":1},\"autotypenumbers\":\"strict\",\"coloraxis\":{\"colorbar\":{\"outlinewidth\":0,\"ticks\":\"\"}},\"colorscale\":{\"diverging\":[[0,\"#8e0152\"],[0.1,\"#c51b7d\"],[0.2,\"#de77ae\"],[0.3,\"#f1b6da\"],[0.4,\"#fde0ef\"],[0.5,\"#f7f7f7\"],[0.6,\"#e6f5d0\"],[0.7,\"#b8e186\"],[0.8,\"#7fbc41\"],[0.9,\"#4d9221\"],[1,\"#276419\"]],\"sequential\":[[0.0,\"#0d0887\"],[0.1111111111111111,\"#46039f\"],[0.2222222222222222,\"#7201a8\"],[0.3333333333333333,\"#9c179e\"],[0.4444444444444444,\"#bd3786\"],[0.5555555555555556,\"#d8576b\"],[0.6666666666666666,\"#ed7953\"],[0.7777777777777778,\"#fb9f3a\"],[0.8888888888888888,\"#fdca26\"],[1.0,\"#f0f921\"]],\"sequentialminus\":[[0.0,\"#0d0887\"],[0.1111111111111111,\"#46039f\"],[0.2222222222222222,\"#7201a8\"],[0.3333333333333333,\"#9c179e\"],[0.4444444444444444,\"#bd3786\"],[0.5555555555555556,\"#d8576b\"],[0.6666666666666666,\"#ed7953\"],[0.7777777777777778,\"#fb9f3a\"],[0.8888888888888888,\"#fdca26\"],[1.0,\"#f0f921\"]]},\"colorway\":[\"#636efa\",\"#EF553B\",\"#00cc96\",\"#ab63fa\",\"#FFA15A\",\"#19d3f3\",\"#FF6692\",\"#B6E880\",\"#FF97FF\",\"#FECB52\"],\"font\":{\"color\":\"#2a3f5f\"},\"geo\":{\"bgcolor\":\"white\",\"lakecolor\":\"white\",\"landcolor\":\"#E5ECF6\",\"showlakes\":true,\"showland\":true,\"subunitcolor\":\"white\"},\"hoverlabel\":{\"align\":\"left\"},\"hovermode\":\"closest\",\"mapbox\":{\"style\":\"light\"},\"paper_bgcolor\":\"white\",\"plot_bgcolor\":\"#E5ECF6\",\"polar\":{\"angularaxis\":{\"gridcolor\":\"white\",\"linecolor\":\"white\",\"ticks\":\"\"},\"bgcolor\":\"#E5ECF6\",\"radialaxis\":{\"gridcolor\":\"white\",\"linecolor\":\"white\",\"ticks\":\"\"}},\"scene\":{\"xaxis\":{\"backgroundcolor\":\"#E5ECF6\",\"gridcolor\":\"white\",\"gridwidth\":2,\"linecolor\":\"white\",\"showbackground\":true,\"ticks\":\"\",\"zerolinecolor\":\"white\"},\"yaxis\":{\"backgroundcolor\":\"#E5ECF6\",\"gridcolor\":\"white\",\"gridwidth\":2,\"linecolor\":\"white\",\"showbackground\":true,\"ticks\":\"\",\"zerolinecolor\":\"white\"},\"zaxis\":{\"backgroundcolor\":\"#E5ECF6\",\"gridcolor\":\"white\",\"gridwidth\":2,\"linecolor\":\"white\",\"showbackground\":true,\"ticks\":\"\",\"zerolinecolor\":\"white\"}},\"shapedefaults\":{\"line\":{\"color\":\"#2a3f5f\"}},\"ternary\":{\"aaxis\":{\"gridcolor\":\"white\",\"linecolor\":\"white\",\"ticks\":\"\"},\"baxis\":{\"gridcolor\":\"white\",\"linecolor\":\"white\",\"ticks\":\"\"},\"bgcolor\":\"#E5ECF6\",\"caxis\":{\"gridcolor\":\"white\",\"linecolor\":\"white\",\"ticks\":\"\"}},\"title\":{\"x\":0.05},\"xaxis\":{\"automargin\":true,\"gridcolor\":\"white\",\"linecolor\":\"white\",\"ticks\":\"\",\"title\":{\"standoff\":15},\"zerolinecolor\":\"white\",\"zerolinewidth\":2},\"yaxis\":{\"automargin\":true,\"gridcolor\":\"white\",\"linecolor\":\"white\",\"ticks\":\"\",\"title\":{\"standoff\":15},\"zerolinecolor\":\"white\",\"zerolinewidth\":2}}},\"title\":{\"text\":\"FACEBOOK SHARE PRICE (2013-2020)\"},\"xaxis\":{\"anchor\":\"y\",\"domain\":[0.0,1.0],\"title\":{\"text\":\"Date\"}},\"yaxis\":{\"anchor\":\"x\",\"domain\":[0.0,1.0],\"title\":{\"text\":\"value\"}}},                        {\"responsive\": true}                    ).then(function(){\n",
       "                            \n",
       "var gd = document.getElementById('c3cd3c42-575b-4361-861f-2702e5a0d2ee');\n",
       "var x = new MutationObserver(function (mutations, observer) {{\n",
       "        var display = window.getComputedStyle(gd).display;\n",
       "        if (!display || display === 'none') {{\n",
       "            console.log([gd, 'removed!']);\n",
       "            Plotly.purge(gd);\n",
       "            observer.disconnect();\n",
       "        }}\n",
       "}});\n",
       "\n",
       "// Listen for the removal of the full notebook cells\n",
       "var notebookContainer = gd.closest('#notebook-container');\n",
       "if (notebookContainer) {{\n",
       "    x.observe(notebookContainer, {childList: true});\n",
       "}}\n",
       "\n",
       "// Listen for the clearing of the current output cell\n",
       "var outputEl = gd.closest('.output');\n",
       "if (outputEl) {{\n",
       "    x.observe(outputEl, {childList: true});\n",
       "}}\n",
       "\n",
       "                        })                };                });            </script>        </div>"
      ]
     },
     "metadata": {},
     "output_type": "display_data"
    }
   ],
   "source": [
    "area_chart = px.area(apple['Daily Change'], title = 'FACEBOOK SHARE PRICE (2013-2020)')\n",
    "area_chart.show()"
   ]
  }
 ],
 "metadata": {
  "kernelspec": {
   "display_name": "Python 3",
   "language": "python",
   "name": "python3"
  },
  "language_info": {
   "codemirror_mode": {
    "name": "ipython",
    "version": 3
   },
   "file_extension": ".py",
   "mimetype": "text/x-python",
   "name": "python",
   "nbconvert_exporter": "python",
   "pygments_lexer": "ipython3",
   "version": "3.8.8"
  }
 },
 "nbformat": 4,
 "nbformat_minor": 5
}

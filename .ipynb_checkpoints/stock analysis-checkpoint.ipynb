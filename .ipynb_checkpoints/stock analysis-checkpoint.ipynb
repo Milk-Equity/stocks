{
 "cells": [
  {
   "cell_type": "code",
   "execution_count": 136,
   "id": "0f816b03",
   "metadata": {},
   "outputs": [],
   "source": [
    "import pandas as pd\n",
    "import matplotlib as plt\n",
    "from alpha_vantage.timeseries import TimeSeries\n",
    "import time\n",
    "import json"
   ]
  },
  {
   "cell_type": "code",
   "execution_count": 3,
   "id": "79b86df5",
   "metadata": {},
   "outputs": [],
   "source": [
    "#import quandl\n",
    "#quandl.ApiConfig.api_key = 'VDCe-Sck1jKwogtfPBtN'\n",
    "#quandl.ApiConfig.verify_ssl = False\n",
    "#data = quandl.get_table('WIKI', ticker='AAPL')"
   ]
  },
  {
   "cell_type": "code",
   "execution_count": 15,
   "id": "6966a06c",
   "metadata": {},
   "outputs": [],
   "source": [
    "api_key = '7DOY154L31ZDC2PG'"
   ]
  },
  {
   "cell_type": "code",
   "execution_count": 121,
   "id": "c3778791",
   "metadata": {},
   "outputs": [],
   "source": [
    "ts = TimeSeries(key=api_key, output_format='pandas')"
   ]
  },
  {
   "cell_type": "code",
   "execution_count": 138,
   "id": "e26f6db5",
   "metadata": {},
   "outputs": [],
   "source": [
    "ticker = 'AAPL'\n",
    "outputsize = 'full'\n",
    "data = ts.get_daily_adjusted(symbol='AAPL', outputsize='full')"
   ]
  },
  {
   "cell_type": "code",
   "execution_count": 158,
   "id": "40091c85",
   "metadata": {},
   "outputs": [],
   "source": [
    "df = data[0]"
   ]
  },
  {
   "cell_type": "code",
   "execution_count": 159,
   "id": "35f69089",
   "metadata": {},
   "outputs": [
    {
     "data": {
      "text/html": [
       "<div>\n",
       "<style scoped>\n",
       "    .dataframe tbody tr th:only-of-type {\n",
       "        vertical-align: middle;\n",
       "    }\n",
       "\n",
       "    .dataframe tbody tr th {\n",
       "        vertical-align: top;\n",
       "    }\n",
       "\n",
       "    .dataframe thead th {\n",
       "        text-align: right;\n",
       "    }\n",
       "</style>\n",
       "<table border=\"1\" class=\"dataframe\">\n",
       "  <thead>\n",
       "    <tr style=\"text-align: right;\">\n",
       "      <th></th>\n",
       "      <th>1. open</th>\n",
       "      <th>2. high</th>\n",
       "      <th>3. low</th>\n",
       "      <th>4. close</th>\n",
       "      <th>5. adjusted close</th>\n",
       "      <th>6. volume</th>\n",
       "      <th>7. dividend amount</th>\n",
       "      <th>8. split coefficient</th>\n",
       "    </tr>\n",
       "    <tr>\n",
       "      <th>date</th>\n",
       "      <th></th>\n",
       "      <th></th>\n",
       "      <th></th>\n",
       "      <th></th>\n",
       "      <th></th>\n",
       "      <th></th>\n",
       "      <th></th>\n",
       "      <th></th>\n",
       "    </tr>\n",
       "  </thead>\n",
       "  <tbody>\n",
       "    <tr>\n",
       "      <th>2021-11-11</th>\n",
       "      <td>148.96</td>\n",
       "      <td>149.430</td>\n",
       "      <td>147.6810</td>\n",
       "      <td>147.87</td>\n",
       "      <td>147.87</td>\n",
       "      <td>40720444.0</td>\n",
       "      <td>0.00</td>\n",
       "      <td>1.0</td>\n",
       "    </tr>\n",
       "    <tr>\n",
       "      <th>2021-11-10</th>\n",
       "      <td>150.02</td>\n",
       "      <td>150.130</td>\n",
       "      <td>147.8500</td>\n",
       "      <td>147.92</td>\n",
       "      <td>147.92</td>\n",
       "      <td>65187092.0</td>\n",
       "      <td>0.00</td>\n",
       "      <td>1.0</td>\n",
       "    </tr>\n",
       "    <tr>\n",
       "      <th>2021-11-09</th>\n",
       "      <td>150.20</td>\n",
       "      <td>151.428</td>\n",
       "      <td>150.0601</td>\n",
       "      <td>150.81</td>\n",
       "      <td>150.81</td>\n",
       "      <td>56573449.0</td>\n",
       "      <td>0.00</td>\n",
       "      <td>1.0</td>\n",
       "    </tr>\n",
       "    <tr>\n",
       "      <th>2021-11-08</th>\n",
       "      <td>151.41</td>\n",
       "      <td>151.570</td>\n",
       "      <td>150.1600</td>\n",
       "      <td>150.44</td>\n",
       "      <td>150.44</td>\n",
       "      <td>55020868.0</td>\n",
       "      <td>0.00</td>\n",
       "      <td>1.0</td>\n",
       "    </tr>\n",
       "    <tr>\n",
       "      <th>2021-11-05</th>\n",
       "      <td>151.89</td>\n",
       "      <td>152.200</td>\n",
       "      <td>150.0600</td>\n",
       "      <td>151.28</td>\n",
       "      <td>151.28</td>\n",
       "      <td>65463883.0</td>\n",
       "      <td>0.22</td>\n",
       "      <td>1.0</td>\n",
       "    </tr>\n",
       "  </tbody>\n",
       "</table>\n",
       "</div>"
      ],
      "text/plain": [
       "            1. open  2. high    3. low  4. close  5. adjusted close  \\\n",
       "date                                                                  \n",
       "2021-11-11   148.96  149.430  147.6810    147.87             147.87   \n",
       "2021-11-10   150.02  150.130  147.8500    147.92             147.92   \n",
       "2021-11-09   150.20  151.428  150.0601    150.81             150.81   \n",
       "2021-11-08   151.41  151.570  150.1600    150.44             150.44   \n",
       "2021-11-05   151.89  152.200  150.0600    151.28             151.28   \n",
       "\n",
       "             6. volume  7. dividend amount  8. split coefficient  \n",
       "date                                                              \n",
       "2021-11-11  40720444.0                0.00                   1.0  \n",
       "2021-11-10  65187092.0                0.00                   1.0  \n",
       "2021-11-09  56573449.0                0.00                   1.0  \n",
       "2021-11-08  55020868.0                0.00                   1.0  \n",
       "2021-11-05  65463883.0                0.22                   1.0  "
      ]
     },
     "execution_count": 159,
     "metadata": {},
     "output_type": "execute_result"
    }
   ],
   "source": [
    "df.head()"
   ]
  },
  {
   "cell_type": "markdown",
   "id": "873f0693",
   "metadata": {},
   "source": [
    "Stock Call Function"
   ]
  },
  {
   "cell_type": "code",
   "execution_count": 169,
   "id": "3c3343ae",
   "metadata": {},
   "outputs": [],
   "source": [
    "class Stocker():\n",
    "    \n",
    "    # Initialization requires a ticker symbol\n",
    "    def __init__(self, ticker, size ='full'):\n",
    "        \n",
    "        # Enforce capitalization\n",
    "        ticker = ticker.upper()\n",
    "        \n",
    "        # Use Personal Api Key\n",
    "        api_key = '7DOY154L31ZDC2PG'\n",
    "        output = 'pandas'\n",
    "        ts = TimeSeries(key=api_key, output_format=output)\n",
    "\n",
    "        # Retrieval the financial data\n",
    "        try:\n",
    "            stock = data = ts.get_daily_adjusted(symbol=ticker, outputsize=size)\n",
    "            df = data[0]\n",
    "        except Exception as e:\n",
    "            print('Error Retrieving Data.')\n",
    "            print(e)\n",
    "            return df"
   ]
  },
  {
   "cell_type": "code",
   "execution_count": 172,
   "id": "315d1eb0",
   "metadata": {
    "scrolled": false
   },
   "outputs": [
    {
     "ename": "AttributeError",
     "evalue": "'Stocker' object has no attribute 'info'",
     "output_type": "error",
     "traceback": [
      "\u001b[1;31m---------------------------------------------------------------------------\u001b[0m",
      "\u001b[1;31mAttributeError\u001b[0m                            Traceback (most recent call last)",
      "\u001b[1;32m<ipython-input-172-40cc50d35a15>\u001b[0m in \u001b[0;36m<module>\u001b[1;34m\u001b[0m\n\u001b[0;32m      1\u001b[0m \u001b[0mapple\u001b[0m \u001b[1;33m=\u001b[0m \u001b[0mStocker\u001b[0m\u001b[1;33m(\u001b[0m\u001b[1;34m'aapl'\u001b[0m\u001b[1;33m)\u001b[0m\u001b[1;33m\u001b[0m\u001b[1;33m\u001b[0m\u001b[0m\n\u001b[1;32m----> 2\u001b[1;33m \u001b[0mapple\u001b[0m\u001b[1;33m.\u001b[0m\u001b[0minfo\u001b[0m\u001b[1;33m(\u001b[0m\u001b[1;33m)\u001b[0m\u001b[1;33m\u001b[0m\u001b[1;33m\u001b[0m\u001b[0m\n\u001b[0m",
      "\u001b[1;31mAttributeError\u001b[0m: 'Stocker' object has no attribute 'info'"
     ]
    }
   ],
   "source": [
    "apple = Stocker('aapl')\n",
    "apple.info()"
   ]
  },
  {
   "cell_type": "code",
   "execution_count": 132,
   "id": "dc084f60",
   "metadata": {},
   "outputs": [],
   "source": [
    "def request_stock_price_hist(symbol, token, sample = False):\n",
    "    if sample == False:\n",
    "        q_string = 'https://www.alphavantage.co/query?function=TIME_SERIES_DAILY_ADJUSTED&symbol={}&outputsize=full&apikey={}'\n",
    "    else:\n",
    "        q_string = 'https://www.alphavantage.co/query?function=TIME_SERIES_DAILY_ADJUSTED&symbol={}&apikey={}'\n",
    "\n",
    "    print(\"Retrieving stock price data from Alpha Vantage (This may take a while)...\")\n",
    "    r = requests.get(q_string.format(symbol, token))\n",
    "    print(\"Data has been successfully downloaded...\")\n",
    "    date = []\n",
    "    colnames = list(range(0, 7))\n",
    "    df = pd.DataFrame(columns = colnames)\n",
    "    print(\"Sorting the retrieved data into a dataframe...\")\n",
    "    for i in tqdm(r.json()['Time Series (Daily)'].keys()):\n",
    "        date.append(i)\n",
    "        row = pd.DataFrame.from_dict(r.json()['Time Series (Daily)'][i], orient='index').reset_index().T[1:]\n",
    "        df = pd.concat([df, row], ignore_index=True)\n",
    "    df.columns = [\"open\", \"high\", \"low\", \"close\", \"adjusted close\", \"volume\", \"dividend amount\", \"split cf\"]\n",
    "    df['date'] = date\n",
    "    return df"
   ]
  },
  {
   "cell_type": "code",
   "execution_count": 171,
   "id": "504c43f2",
   "metadata": {
    "scrolled": false
   },
   "outputs": [],
   "source": [
    "#df = request_stock_price_hist('IBM', '7DOY154L31ZDC2PG')\n"
   ]
  },
  {
   "cell_type": "code",
   "execution_count": null,
   "id": "c85f8a68",
   "metadata": {},
   "outputs": [],
   "source": [
    "class Stock_Analysis:\n",
    "    def __init__(self, Stock_Ticker):    \n",
    "        self.ticker = Stock_Ticker\n",
    "        self.start_date = Start_Date\n",
    "        try:\n",
    "            self.stock_data = pdr.get_data_yahoo(self.ticker,self.start_date)\n",
    "        except:\n",
    "            print(\"Error with Yahoo - please enter Quandl Tickers\")\n",
    "            try:\n",
    "                self.quandl_ticker = input()\n",
    "                self.stock_data = quandl.get(self.quandl_ticker)\n",
    "            except:\n",
    "                \"Failled\"\n",
    "    def Print_Data(self):\n",
    "        print(self.stock_data)\n",
    "\n",
    "apple = Stock_Analysis(\"AAPL\",\"2015-01-01\")\n",
    "apple"
   ]
  }
 ],
 "metadata": {
  "kernelspec": {
   "display_name": "Python 3",
   "language": "python",
   "name": "python3"
  },
  "language_info": {
   "codemirror_mode": {
    "name": "ipython",
    "version": 3
   },
   "file_extension": ".py",
   "mimetype": "text/x-python",
   "name": "python",
   "nbconvert_exporter": "python",
   "pygments_lexer": "ipython3",
   "version": "3.8.8"
  }
 },
 "nbformat": 4,
 "nbformat_minor": 5
}

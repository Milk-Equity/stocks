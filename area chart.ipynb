{
 "cells": [
  {
   "cell_type": "code",
   "execution_count": 1,
   "id": "33945001",
   "metadata": {},
   "outputs": [],
   "source": [
    "import yfinance as yf\n",
    "import pandas as pd \n",
    "import datetime as dt\n",
    "import matplotlib.pyplot as plt\n",
    "import plotly.express as px\n",
    "import plotly.graph_objects as go\n",
    "from plotly.subplots import make_subplots"
   ]
  },
  {
   "cell_type": "code",
   "execution_count": 4,
   "id": "df5bf63d",
   "metadata": {
    "scrolled": true
   },
   "outputs": [
    {
     "name": "stdout",
     "output_type": "stream",
     "text": [
      "[*********************100%***********************]  1 of 1 completed\n"
     ]
    }
   ],
   "source": [
    "df = yf.download(tickers= 'aapl',auto_adjust=True, period = '3Y')"
   ]
  },
  {
   "cell_type": "code",
   "execution_count": 26,
   "id": "782168f3",
   "metadata": {},
   "outputs": [],
   "source": [
    "colors = ['green' if row['Open'] - row['Close'] >= 0 \n",
    "          else 'red' for index, row in df.iterrows()]"
   ]
  },
  {
   "cell_type": "code",
   "execution_count": 27,
   "id": "596aaec5",
   "metadata": {},
   "outputs": [
    {
     "ename": "TypeError",
     "evalue": "area() got an unexpected keyword argument 'fill'",
     "output_type": "error",
     "traceback": [
      "\u001b[1;31m---------------------------------------------------------------------------\u001b[0m",
      "\u001b[1;31mTypeError\u001b[0m                                 Traceback (most recent call last)",
      "\u001b[1;32m<ipython-input-27-22dda2bef23b>\u001b[0m in \u001b[0;36m<module>\u001b[1;34m\u001b[0m\n\u001b[1;32m----> 1\u001b[1;33m \u001b[0marea_chart\u001b[0m \u001b[1;33m=\u001b[0m \u001b[0mpx\u001b[0m\u001b[1;33m.\u001b[0m\u001b[0marea\u001b[0m\u001b[1;33m(\u001b[0m\u001b[0mdf\u001b[0m\u001b[1;33m.\u001b[0m\u001b[0mClose\u001b[0m\u001b[1;33m,\u001b[0m \u001b[0mfill\u001b[0m\u001b[1;33m=\u001b[0m\u001b[0mcolors\u001b[0m\u001b[1;33m)\u001b[0m\u001b[1;33m\u001b[0m\u001b[1;33m\u001b[0m\u001b[0m\n\u001b[0m\u001b[0;32m      2\u001b[0m \u001b[1;33m\u001b[0m\u001b[0m\n\u001b[0;32m      3\u001b[0m \u001b[0marea_chart\u001b[0m\u001b[1;33m.\u001b[0m\u001b[0mupdate_xaxes\u001b[0m\u001b[1;33m(\u001b[0m\u001b[0mtitle_text\u001b[0m \u001b[1;33m=\u001b[0m \u001b[1;34m'Date'\u001b[0m\u001b[1;33m)\u001b[0m\u001b[1;33m\u001b[0m\u001b[1;33m\u001b[0m\u001b[0m\n\u001b[0;32m      4\u001b[0m \u001b[0marea_chart\u001b[0m\u001b[1;33m.\u001b[0m\u001b[0mupdate_yaxes\u001b[0m\u001b[1;33m(\u001b[0m\u001b[0mtitle_text\u001b[0m \u001b[1;33m=\u001b[0m \u001b[1;34m'Close Price'\u001b[0m\u001b[1;33m,\u001b[0m \u001b[0mtickprefix\u001b[0m \u001b[1;33m=\u001b[0m \u001b[1;34m'$'\u001b[0m\u001b[1;33m)\u001b[0m\u001b[1;33m\u001b[0m\u001b[1;33m\u001b[0m\u001b[0m\n\u001b[0;32m      5\u001b[0m \u001b[0marea_chart\u001b[0m\u001b[1;33m.\u001b[0m\u001b[0mupdate_layout\u001b[0m\u001b[1;33m(\u001b[0m\u001b[0mshowlegend\u001b[0m \u001b[1;33m=\u001b[0m \u001b[1;32mFalse\u001b[0m\u001b[1;33m)\u001b[0m\u001b[1;33m\u001b[0m\u001b[1;33m\u001b[0m\u001b[0m\n",
      "\u001b[1;31mTypeError\u001b[0m: area() got an unexpected keyword argument 'fill'"
     ]
    }
   ],
   "source": [
    "\n",
    "\n",
    "area_chart = px.area(df.Close, fill=colors)\n",
    "\n",
    "area_chart.update_xaxes(title_text = 'Date')\n",
    "area_chart.update_yaxes(title_text = 'Close Price', tickprefix = '$')\n",
    "area_chart.update_layout(showlegend = False)\n",
    "area_chart.update_layout(xaxis_rangeslider_visible=False)\n",
    "\n",
    "area_chart.show()\n"
   ]
  },
  {
   "cell_type": "code",
   "execution_count": 31,
   "id": "148e3670",
   "metadata": {},
   "outputs": [
    {
     "ename": "ValueError",
     "evalue": "\n    Invalid value of type 'builtins.list' received for the 'fill' property of scatter\n        Received value: ['green', 'red', 'green', 'red', 'green', 'green', 'red', 'green', 'green', 'red', 'green', 'green', 'green', 'green', 'red', 'red', 'green', 'green', 'red', 'green', 'red', 'green', 'red', 'red', 'red', 'green', 'green', 'red', 'red', 'red', 'green', 'green', 'green', 'green', 'red', 'red', 'green', 'red', 'red', 'green', 'red', 'red', 'green', 'green', 'red', 'green', 'red', 'green', 'red', 'green', 'red', 'red', 'green', 'red', 'red', 'red', 'red', 'green', 'red', 'red', 'green', 'green', 'green', 'red', 'red', 'red', 'green', 'green', 'red', 'red', 'green', 'red', 'red', 'green', 'green', 'green', 'green', 'green', 'red', 'green', 'red', 'red', 'red', 'red', 'red', 'green', 'red', 'green', 'green', 'red', 'green', 'red', 'red', 'red', 'red', 'green', 'green', 'green', 'red', 'green', 'red', 'green', 'red', 'red', 'green', 'red', 'red', 'green', 'green', 'red', 'red', 'red', 'red', 'green', 'red', 'green', 'green', 'green', 'green', 'red', 'red', 'green', 'green', 'red', 'green', 'red', 'red', 'red', 'green', 'red', 'green', 'red', 'red', 'red', 'green', 'green', 'green', 'red', 'green', 'red', 'green', 'green', 'green', 'red', 'red', 'red', 'green', 'red', 'red', 'green', 'red', 'red', 'green', 'green', 'red', 'green', 'red', 'red', 'red', 'green', 'red', 'red', 'red', 'green', 'green', 'green', 'green', 'red', 'red', 'red', 'green', 'red', 'red', 'green', 'green', 'red', 'green', 'green', 'green', 'green', 'green', 'red', 'green', 'red', 'red', 'green', 'green', 'red', 'red', 'green', 'green', 'red', 'red', 'green', 'green', 'red', 'red', 'red', 'green', 'green', 'green', 'green', 'red', 'green', 'green', 'red', 'green', 'green', 'red', 'red', 'red', 'green', 'green', 'red', 'red', 'red', 'green', 'red', 'red', 'red', 'red', 'green', 'red', 'green', 'red', 'red', 'green', 'green', 'red', 'red', 'red', 'red', 'red', 'red', 'red', 'red', 'red', 'red', 'green', 'red', 'red', 'green', 'green', 'green', 'green', 'red', 'green', 'red', 'red', 'green', 'red', 'red', 'red', 'red', 'green', 'green', 'red', 'red', 'red', 'red', 'red', 'green', 'red', 'green', 'red', 'green', 'red', 'green', 'red', 'red', 'red', 'red', 'red', 'green', 'red', 'red', 'green', 'red', 'green', 'green', 'red', 'red', 'green', 'green', 'red', 'green', 'green', 'red', 'green', 'red', 'green', 'red', 'red', 'green', 'red', 'green', 'red', 'green', 'red', 'red', 'red', 'red', 'red', 'green', 'green', 'red', 'green', 'red', 'green', 'red', 'red', 'green', 'red', 'green', 'red', 'red', 'red', 'green', 'green', 'red', 'red', 'red', 'red', 'green', 'green', 'green', 'red', 'green', 'red', 'green', 'red', 'green', 'green', 'red', 'green', 'red', 'green', 'red', 'green', 'red', 'red', 'red', 'green', 'green', 'green', 'green', 'red', 'green', 'red', 'red', 'green', 'red', 'red', 'red', 'red', 'red', 'red', 'red', 'red', 'red', 'green', 'green', 'red', 'red', 'red', 'green', 'red', 'green', 'red', 'green', 'red', 'red', 'green', 'red', 'red', 'red', 'green', 'red', 'red', 'red', 'red', 'green', 'green', 'red', 'red', 'green', 'red', 'green', 'red', 'red', 'green', 'red', 'green', 'red', 'red', 'green', 'green', 'red', 'green', 'red', 'green', 'red', 'green', 'red', 'green', 'green', 'green', 'red', 'green', 'red', 'green', 'red', 'red', 'green', 'red', 'red', 'red', 'red', 'red', 'red', 'red', 'green', 'red', 'green', 'red', 'red', 'red', 'green', 'red', 'green', 'red', 'red', 'green', 'red', 'red', 'green', 'green', 'red', 'red', 'green', 'green', 'red', 'green', 'red', 'green', 'green', 'red', 'green', 'green', 'red', 'green', 'red', 'green', 'green', 'red', 'red', 'green', 'green', 'red', 'green', 'red', 'red', 'green', 'red', 'green', 'red', 'red', 'green', 'red', 'red', 'green', 'green', 'red', 'red', 'green', 'green', 'red', 'red', 'green', 'red', 'green', 'green', 'red', 'red', 'red', 'red', 'green', 'red', 'red', 'green', 'green', 'red', 'green', 'green', 'red', 'green', 'green', 'red', 'red', 'red', 'red', 'red', 'red', 'green', 'green', 'red', 'red', 'green', 'red', 'green', 'green', 'red', 'red', 'green', 'green', 'red', 'red', 'green', 'red', 'red', 'green', 'green', 'green', 'green', 'red', 'green', 'red', 'green', 'green', 'red', 'red', 'green', 'green', 'red', 'red', 'red', 'red', 'green', 'green', 'green', 'green', 'green', 'red', 'green', 'green', 'red', 'green', 'red', 'green', 'green', 'green', 'red', 'green', 'green', 'red', 'green', 'green', 'red', 'red', 'green', 'green', 'red', 'green', 'green', 'green', 'red', 'green', 'red', 'green', 'green', 'red', 'red', 'green', 'red', 'green', 'red', 'red', 'green', 'green', 'red', 'red', 'green', 'green', 'red', 'green', 'red', 'green', 'red', 'red', 'red', 'green', 'red', 'green', 'red', 'green', 'red', 'green', 'red', 'green', 'red', 'green', 'green', 'green', 'green', 'green', 'red', 'green', 'green', 'red', 'green', 'green', 'red', 'green', 'red', 'red', 'green', 'green', 'red', 'red', 'green', 'red', 'green', 'green', 'green', 'green', 'green', 'red', 'green', 'red', 'green', 'red', 'green', 'green', 'red', 'red', 'green', 'green', 'red', 'green', 'red', 'red', 'green', 'green', 'green', 'red', 'red', 'red', 'red', 'red', 'red', 'red', 'red', 'red', 'green', 'red', 'red', 'green', 'green', 'green', 'red', 'green', 'red', 'red', 'red', 'green', 'red', 'red', 'red', 'green', 'red', 'green', 'red', 'green', 'green', 'green', 'green', 'red', 'red', 'red', 'green', 'green', 'red', 'red', 'red', 'red', 'green', 'green', 'red', 'red', 'green', 'green', 'green', 'red', 'red', 'green', 'green', 'green', 'green', 'green', 'red', 'red', 'green', 'green', 'green', 'red', 'red', 'red', 'green', 'green', 'red', 'green', 'red', 'green', 'red', 'red', 'red', 'green', 'red', 'green', 'green', 'red', 'red', 'red', 'red', 'red', 'red', 'green', 'green', 'green', 'green', 'red', 'red', 'green', 'red', 'red', 'green', 'green', 'green', 'red', 'green', 'green', 'red', 'green', 'red', 'red', 'red', 'red', 'green', 'red', 'red', 'green', 'red', 'red', 'green', 'red', 'green']\n\n    The 'fill' property is an enumeration that may be specified as:\n      - One of the following enumeration values:\n            ['none', 'tozeroy', 'tozerox', 'tonexty', 'tonextx',\n            'toself', 'tonext']",
     "output_type": "error",
     "traceback": [
      "\u001b[1;31m---------------------------------------------------------------------------\u001b[0m",
      "\u001b[1;31mValueError\u001b[0m                                Traceback (most recent call last)",
      "\u001b[1;32m<ipython-input-31-d8266338669c>\u001b[0m in \u001b[0;36m<module>\u001b[1;34m\u001b[0m\n\u001b[0;32m      1\u001b[0m \u001b[0mfig\u001b[0m \u001b[1;33m=\u001b[0m \u001b[0mgo\u001b[0m\u001b[1;33m.\u001b[0m\u001b[0mFigure\u001b[0m\u001b[1;33m(\u001b[0m\u001b[1;33m)\u001b[0m\u001b[1;33m\u001b[0m\u001b[1;33m\u001b[0m\u001b[0m\n\u001b[1;32m----> 2\u001b[1;33m \u001b[0mfig\u001b[0m\u001b[1;33m.\u001b[0m\u001b[0madd_trace\u001b[0m\u001b[1;33m(\u001b[0m\u001b[0mgo\u001b[0m\u001b[1;33m.\u001b[0m\u001b[0mScatter\u001b[0m\u001b[1;33m(\u001b[0m\u001b[0mx\u001b[0m\u001b[1;33m=\u001b[0m\u001b[0mdf\u001b[0m\u001b[1;33m.\u001b[0m\u001b[0mindex\u001b[0m\u001b[1;33m,\u001b[0m \u001b[0my\u001b[0m\u001b[1;33m=\u001b[0m\u001b[0mdf\u001b[0m\u001b[1;33m.\u001b[0m\u001b[0mClose\u001b[0m\u001b[1;33m,\u001b[0m \u001b[0mfill\u001b[0m\u001b[1;33m=\u001b[0m\u001b[0mcolors\u001b[0m\u001b[1;33m)\u001b[0m\u001b[1;33m)\u001b[0m \u001b[1;31m# fill down to xaxis\u001b[0m\u001b[1;33m\u001b[0m\u001b[1;33m\u001b[0m\u001b[0m\n\u001b[0m",
      "\u001b[1;32m~\\anaconda3\\lib\\site-packages\\plotly\\graph_objs\\_scatter.py\u001b[0m in \u001b[0;36m__init__\u001b[1;34m(self, arg, cliponaxis, connectgaps, customdata, customdatasrc, dx, dy, error_x, error_y, fill, fillcolor, groupnorm, hoverinfo, hoverinfosrc, hoverlabel, hoveron, hovertemplate, hovertemplatesrc, hovertext, hovertextsrc, ids, idssrc, legendgroup, legendgrouptitle, legendrank, line, marker, meta, metasrc, mode, name, opacity, orientation, selected, selectedpoints, showlegend, stackgaps, stackgroup, stream, text, textfont, textposition, textpositionsrc, textsrc, texttemplate, texttemplatesrc, uid, uirevision, unselected, visible, x, x0, xaxis, xcalendar, xhoverformat, xperiod, xperiod0, xperiodalignment, xsrc, y, y0, yaxis, ycalendar, yhoverformat, yperiod, yperiod0, yperiodalignment, ysrc, **kwargs)\u001b[0m\n\u001b[0;32m   3043\u001b[0m         \u001b[0m_v\u001b[0m \u001b[1;33m=\u001b[0m \u001b[0mfill\u001b[0m \u001b[1;32mif\u001b[0m \u001b[0mfill\u001b[0m \u001b[1;32mis\u001b[0m \u001b[1;32mnot\u001b[0m \u001b[1;32mNone\u001b[0m \u001b[1;32melse\u001b[0m \u001b[0m_v\u001b[0m\u001b[1;33m\u001b[0m\u001b[1;33m\u001b[0m\u001b[0m\n\u001b[0;32m   3044\u001b[0m         \u001b[1;32mif\u001b[0m \u001b[0m_v\u001b[0m \u001b[1;32mis\u001b[0m \u001b[1;32mnot\u001b[0m \u001b[1;32mNone\u001b[0m\u001b[1;33m:\u001b[0m\u001b[1;33m\u001b[0m\u001b[1;33m\u001b[0m\u001b[0m\n\u001b[1;32m-> 3045\u001b[1;33m             \u001b[0mself\u001b[0m\u001b[1;33m[\u001b[0m\u001b[1;34m\"fill\"\u001b[0m\u001b[1;33m]\u001b[0m \u001b[1;33m=\u001b[0m \u001b[0m_v\u001b[0m\u001b[1;33m\u001b[0m\u001b[1;33m\u001b[0m\u001b[0m\n\u001b[0m\u001b[0;32m   3046\u001b[0m         \u001b[0m_v\u001b[0m \u001b[1;33m=\u001b[0m \u001b[0marg\u001b[0m\u001b[1;33m.\u001b[0m\u001b[0mpop\u001b[0m\u001b[1;33m(\u001b[0m\u001b[1;34m\"fillcolor\"\u001b[0m\u001b[1;33m,\u001b[0m \u001b[1;32mNone\u001b[0m\u001b[1;33m)\u001b[0m\u001b[1;33m\u001b[0m\u001b[1;33m\u001b[0m\u001b[0m\n\u001b[0;32m   3047\u001b[0m         \u001b[0m_v\u001b[0m \u001b[1;33m=\u001b[0m \u001b[0mfillcolor\u001b[0m \u001b[1;32mif\u001b[0m \u001b[0mfillcolor\u001b[0m \u001b[1;32mis\u001b[0m \u001b[1;32mnot\u001b[0m \u001b[1;32mNone\u001b[0m \u001b[1;32melse\u001b[0m \u001b[0m_v\u001b[0m\u001b[1;33m\u001b[0m\u001b[1;33m\u001b[0m\u001b[0m\n",
      "\u001b[1;32m~\\anaconda3\\lib\\site-packages\\plotly\\basedatatypes.py\u001b[0m in \u001b[0;36m__setitem__\u001b[1;34m(self, prop, value)\u001b[0m\n\u001b[0;32m   4817\u001b[0m                 \u001b[1;31m# ### Handle simple property ###\u001b[0m\u001b[1;33m\u001b[0m\u001b[1;33m\u001b[0m\u001b[1;33m\u001b[0m\u001b[0m\n\u001b[0;32m   4818\u001b[0m                 \u001b[1;32melse\u001b[0m\u001b[1;33m:\u001b[0m\u001b[1;33m\u001b[0m\u001b[1;33m\u001b[0m\u001b[0m\n\u001b[1;32m-> 4819\u001b[1;33m                     \u001b[0mself\u001b[0m\u001b[1;33m.\u001b[0m\u001b[0m_set_prop\u001b[0m\u001b[1;33m(\u001b[0m\u001b[0mprop\u001b[0m\u001b[1;33m,\u001b[0m \u001b[0mvalue\u001b[0m\u001b[1;33m)\u001b[0m\u001b[1;33m\u001b[0m\u001b[1;33m\u001b[0m\u001b[0m\n\u001b[0m\u001b[0;32m   4820\u001b[0m             \u001b[1;32melse\u001b[0m\u001b[1;33m:\u001b[0m\u001b[1;33m\u001b[0m\u001b[1;33m\u001b[0m\u001b[0m\n\u001b[0;32m   4821\u001b[0m                 \u001b[1;31m# Make sure properties dict is initialized\u001b[0m\u001b[1;33m\u001b[0m\u001b[1;33m\u001b[0m\u001b[1;33m\u001b[0m\u001b[0m\n",
      "\u001b[1;32m~\\anaconda3\\lib\\site-packages\\plotly\\basedatatypes.py\u001b[0m in \u001b[0;36m_set_prop\u001b[1;34m(self, prop, val)\u001b[0m\n\u001b[0;32m   5161\u001b[0m                 \u001b[1;32mreturn\u001b[0m\u001b[1;33m\u001b[0m\u001b[1;33m\u001b[0m\u001b[0m\n\u001b[0;32m   5162\u001b[0m             \u001b[1;32melse\u001b[0m\u001b[1;33m:\u001b[0m\u001b[1;33m\u001b[0m\u001b[1;33m\u001b[0m\u001b[0m\n\u001b[1;32m-> 5163\u001b[1;33m                 \u001b[1;32mraise\u001b[0m \u001b[0merr\u001b[0m\u001b[1;33m\u001b[0m\u001b[1;33m\u001b[0m\u001b[0m\n\u001b[0m\u001b[0;32m   5164\u001b[0m \u001b[1;33m\u001b[0m\u001b[0m\n\u001b[0;32m   5165\u001b[0m         \u001b[1;31m# val is None\u001b[0m\u001b[1;33m\u001b[0m\u001b[1;33m\u001b[0m\u001b[1;33m\u001b[0m\u001b[0m\n",
      "\u001b[1;32m~\\anaconda3\\lib\\site-packages\\plotly\\basedatatypes.py\u001b[0m in \u001b[0;36m_set_prop\u001b[1;34m(self, prop, val)\u001b[0m\n\u001b[0;32m   5156\u001b[0m \u001b[1;33m\u001b[0m\u001b[0m\n\u001b[0;32m   5157\u001b[0m         \u001b[1;32mtry\u001b[0m\u001b[1;33m:\u001b[0m\u001b[1;33m\u001b[0m\u001b[1;33m\u001b[0m\u001b[0m\n\u001b[1;32m-> 5158\u001b[1;33m             \u001b[0mval\u001b[0m \u001b[1;33m=\u001b[0m \u001b[0mvalidator\u001b[0m\u001b[1;33m.\u001b[0m\u001b[0mvalidate_coerce\u001b[0m\u001b[1;33m(\u001b[0m\u001b[0mval\u001b[0m\u001b[1;33m)\u001b[0m\u001b[1;33m\u001b[0m\u001b[1;33m\u001b[0m\u001b[0m\n\u001b[0m\u001b[0;32m   5159\u001b[0m         \u001b[1;32mexcept\u001b[0m \u001b[0mValueError\u001b[0m \u001b[1;32mas\u001b[0m \u001b[0merr\u001b[0m\u001b[1;33m:\u001b[0m\u001b[1;33m\u001b[0m\u001b[1;33m\u001b[0m\u001b[0m\n\u001b[0;32m   5160\u001b[0m             \u001b[1;32mif\u001b[0m \u001b[0mself\u001b[0m\u001b[1;33m.\u001b[0m\u001b[0m_skip_invalid\u001b[0m\u001b[1;33m:\u001b[0m\u001b[1;33m\u001b[0m\u001b[1;33m\u001b[0m\u001b[0m\n",
      "\u001b[1;32m~\\anaconda3\\lib\\site-packages\\_plotly_utils\\basevalidators.py\u001b[0m in \u001b[0;36mvalidate_coerce\u001b[1;34m(self, v)\u001b[0m\n\u001b[0;32m    617\u001b[0m             \u001b[0mv\u001b[0m \u001b[1;33m=\u001b[0m \u001b[0mself\u001b[0m\u001b[1;33m.\u001b[0m\u001b[0mperform_replacemenet\u001b[0m\u001b[1;33m(\u001b[0m\u001b[0mv\u001b[0m\u001b[1;33m)\u001b[0m\u001b[1;33m\u001b[0m\u001b[1;33m\u001b[0m\u001b[0m\n\u001b[0;32m    618\u001b[0m             \u001b[1;32mif\u001b[0m \u001b[1;32mnot\u001b[0m \u001b[0mself\u001b[0m\u001b[1;33m.\u001b[0m\u001b[0min_values\u001b[0m\u001b[1;33m(\u001b[0m\u001b[0mv\u001b[0m\u001b[1;33m)\u001b[0m\u001b[1;33m:\u001b[0m\u001b[1;33m\u001b[0m\u001b[1;33m\u001b[0m\u001b[0m\n\u001b[1;32m--> 619\u001b[1;33m                 \u001b[0mself\u001b[0m\u001b[1;33m.\u001b[0m\u001b[0mraise_invalid_val\u001b[0m\u001b[1;33m(\u001b[0m\u001b[0mv\u001b[0m\u001b[1;33m)\u001b[0m\u001b[1;33m\u001b[0m\u001b[1;33m\u001b[0m\u001b[0m\n\u001b[0m\u001b[0;32m    620\u001b[0m         \u001b[1;32mreturn\u001b[0m \u001b[0mv\u001b[0m\u001b[1;33m\u001b[0m\u001b[1;33m\u001b[0m\u001b[0m\n\u001b[0;32m    621\u001b[0m \u001b[1;33m\u001b[0m\u001b[0m\n",
      "\u001b[1;32m~\\anaconda3\\lib\\site-packages\\_plotly_utils\\basevalidators.py\u001b[0m in \u001b[0;36mraise_invalid_val\u001b[1;34m(self, v, inds)\u001b[0m\n\u001b[0;32m    288\u001b[0m                 \u001b[0mname\u001b[0m \u001b[1;33m+=\u001b[0m \u001b[1;34m\"[\"\u001b[0m \u001b[1;33m+\u001b[0m \u001b[0mstr\u001b[0m\u001b[1;33m(\u001b[0m\u001b[0mi\u001b[0m\u001b[1;33m)\u001b[0m \u001b[1;33m+\u001b[0m \u001b[1;34m\"]\"\u001b[0m\u001b[1;33m\u001b[0m\u001b[1;33m\u001b[0m\u001b[0m\n\u001b[0;32m    289\u001b[0m \u001b[1;33m\u001b[0m\u001b[0m\n\u001b[1;32m--> 290\u001b[1;33m         raise ValueError(\n\u001b[0m\u001b[0;32m    291\u001b[0m             \"\"\"\n\u001b[0;32m    292\u001b[0m     \u001b[0mInvalid\u001b[0m \u001b[0mvalue\u001b[0m \u001b[0mof\u001b[0m \u001b[0mtype\u001b[0m \u001b[1;33m{\u001b[0m\u001b[0mtyp\u001b[0m\u001b[1;33m}\u001b[0m \u001b[0mreceived\u001b[0m \u001b[1;32mfor\u001b[0m \u001b[0mthe\u001b[0m \u001b[1;34m'{name}'\u001b[0m \u001b[0mproperty\u001b[0m \u001b[0mof\u001b[0m \u001b[1;33m{\u001b[0m\u001b[0mpname\u001b[0m\u001b[1;33m}\u001b[0m\u001b[1;33m\u001b[0m\u001b[1;33m\u001b[0m\u001b[0m\n",
      "\u001b[1;31mValueError\u001b[0m: \n    Invalid value of type 'builtins.list' received for the 'fill' property of scatter\n        Received value: ['green', 'red', 'green', 'red', 'green', 'green', 'red', 'green', 'green', 'red', 'green', 'green', 'green', 'green', 'red', 'red', 'green', 'green', 'red', 'green', 'red', 'green', 'red', 'red', 'red', 'green', 'green', 'red', 'red', 'red', 'green', 'green', 'green', 'green', 'red', 'red', 'green', 'red', 'red', 'green', 'red', 'red', 'green', 'green', 'red', 'green', 'red', 'green', 'red', 'green', 'red', 'red', 'green', 'red', 'red', 'red', 'red', 'green', 'red', 'red', 'green', 'green', 'green', 'red', 'red', 'red', 'green', 'green', 'red', 'red', 'green', 'red', 'red', 'green', 'green', 'green', 'green', 'green', 'red', 'green', 'red', 'red', 'red', 'red', 'red', 'green', 'red', 'green', 'green', 'red', 'green', 'red', 'red', 'red', 'red', 'green', 'green', 'green', 'red', 'green', 'red', 'green', 'red', 'red', 'green', 'red', 'red', 'green', 'green', 'red', 'red', 'red', 'red', 'green', 'red', 'green', 'green', 'green', 'green', 'red', 'red', 'green', 'green', 'red', 'green', 'red', 'red', 'red', 'green', 'red', 'green', 'red', 'red', 'red', 'green', 'green', 'green', 'red', 'green', 'red', 'green', 'green', 'green', 'red', 'red', 'red', 'green', 'red', 'red', 'green', 'red', 'red', 'green', 'green', 'red', 'green', 'red', 'red', 'red', 'green', 'red', 'red', 'red', 'green', 'green', 'green', 'green', 'red', 'red', 'red', 'green', 'red', 'red', 'green', 'green', 'red', 'green', 'green', 'green', 'green', 'green', 'red', 'green', 'red', 'red', 'green', 'green', 'red', 'red', 'green', 'green', 'red', 'red', 'green', 'green', 'red', 'red', 'red', 'green', 'green', 'green', 'green', 'red', 'green', 'green', 'red', 'green', 'green', 'red', 'red', 'red', 'green', 'green', 'red', 'red', 'red', 'green', 'red', 'red', 'red', 'red', 'green', 'red', 'green', 'red', 'red', 'green', 'green', 'red', 'red', 'red', 'red', 'red', 'red', 'red', 'red', 'red', 'red', 'green', 'red', 'red', 'green', 'green', 'green', 'green', 'red', 'green', 'red', 'red', 'green', 'red', 'red', 'red', 'red', 'green', 'green', 'red', 'red', 'red', 'red', 'red', 'green', 'red', 'green', 'red', 'green', 'red', 'green', 'red', 'red', 'red', 'red', 'red', 'green', 'red', 'red', 'green', 'red', 'green', 'green', 'red', 'red', 'green', 'green', 'red', 'green', 'green', 'red', 'green', 'red', 'green', 'red', 'red', 'green', 'red', 'green', 'red', 'green', 'red', 'red', 'red', 'red', 'red', 'green', 'green', 'red', 'green', 'red', 'green', 'red', 'red', 'green', 'red', 'green', 'red', 'red', 'red', 'green', 'green', 'red', 'red', 'red', 'red', 'green', 'green', 'green', 'red', 'green', 'red', 'green', 'red', 'green', 'green', 'red', 'green', 'red', 'green', 'red', 'green', 'red', 'red', 'red', 'green', 'green', 'green', 'green', 'red', 'green', 'red', 'red', 'green', 'red', 'red', 'red', 'red', 'red', 'red', 'red', 'red', 'red', 'green', 'green', 'red', 'red', 'red', 'green', 'red', 'green', 'red', 'green', 'red', 'red', 'green', 'red', 'red', 'red', 'green', 'red', 'red', 'red', 'red', 'green', 'green', 'red', 'red', 'green', 'red', 'green', 'red', 'red', 'green', 'red', 'green', 'red', 'red', 'green', 'green', 'red', 'green', 'red', 'green', 'red', 'green', 'red', 'green', 'green', 'green', 'red', 'green', 'red', 'green', 'red', 'red', 'green', 'red', 'red', 'red', 'red', 'red', 'red', 'red', 'green', 'red', 'green', 'red', 'red', 'red', 'green', 'red', 'green', 'red', 'red', 'green', 'red', 'red', 'green', 'green', 'red', 'red', 'green', 'green', 'red', 'green', 'red', 'green', 'green', 'red', 'green', 'green', 'red', 'green', 'red', 'green', 'green', 'red', 'red', 'green', 'green', 'red', 'green', 'red', 'red', 'green', 'red', 'green', 'red', 'red', 'green', 'red', 'red', 'green', 'green', 'red', 'red', 'green', 'green', 'red', 'red', 'green', 'red', 'green', 'green', 'red', 'red', 'red', 'red', 'green', 'red', 'red', 'green', 'green', 'red', 'green', 'green', 'red', 'green', 'green', 'red', 'red', 'red', 'red', 'red', 'red', 'green', 'green', 'red', 'red', 'green', 'red', 'green', 'green', 'red', 'red', 'green', 'green', 'red', 'red', 'green', 'red', 'red', 'green', 'green', 'green', 'green', 'red', 'green', 'red', 'green', 'green', 'red', 'red', 'green', 'green', 'red', 'red', 'red', 'red', 'green', 'green', 'green', 'green', 'green', 'red', 'green', 'green', 'red', 'green', 'red', 'green', 'green', 'green', 'red', 'green', 'green', 'red', 'green', 'green', 'red', 'red', 'green', 'green', 'red', 'green', 'green', 'green', 'red', 'green', 'red', 'green', 'green', 'red', 'red', 'green', 'red', 'green', 'red', 'red', 'green', 'green', 'red', 'red', 'green', 'green', 'red', 'green', 'red', 'green', 'red', 'red', 'red', 'green', 'red', 'green', 'red', 'green', 'red', 'green', 'red', 'green', 'red', 'green', 'green', 'green', 'green', 'green', 'red', 'green', 'green', 'red', 'green', 'green', 'red', 'green', 'red', 'red', 'green', 'green', 'red', 'red', 'green', 'red', 'green', 'green', 'green', 'green', 'green', 'red', 'green', 'red', 'green', 'red', 'green', 'green', 'red', 'red', 'green', 'green', 'red', 'green', 'red', 'red', 'green', 'green', 'green', 'red', 'red', 'red', 'red', 'red', 'red', 'red', 'red', 'red', 'green', 'red', 'red', 'green', 'green', 'green', 'red', 'green', 'red', 'red', 'red', 'green', 'red', 'red', 'red', 'green', 'red', 'green', 'red', 'green', 'green', 'green', 'green', 'red', 'red', 'red', 'green', 'green', 'red', 'red', 'red', 'red', 'green', 'green', 'red', 'red', 'green', 'green', 'green', 'red', 'red', 'green', 'green', 'green', 'green', 'green', 'red', 'red', 'green', 'green', 'green', 'red', 'red', 'red', 'green', 'green', 'red', 'green', 'red', 'green', 'red', 'red', 'red', 'green', 'red', 'green', 'green', 'red', 'red', 'red', 'red', 'red', 'red', 'green', 'green', 'green', 'green', 'red', 'red', 'green', 'red', 'red', 'green', 'green', 'green', 'red', 'green', 'green', 'red', 'green', 'red', 'red', 'red', 'red', 'green', 'red', 'red', 'green', 'red', 'red', 'green', 'red', 'green']\n\n    The 'fill' property is an enumeration that may be specified as:\n      - One of the following enumeration values:\n            ['none', 'tozeroy', 'tozerox', 'tonexty', 'tonextx',\n            'toself', 'tonext']"
     ]
    }
   ],
   "source": [
    "fig = go.Figure()\n",
    "fig.add_trace(go.Scatter(x=df.index, y=df.Close, fill=colors)) # fill down to xaxis\n"
   ]
  }
 ],
 "metadata": {
  "kernelspec": {
   "display_name": "Python 3",
   "language": "python",
   "name": "python3"
  },
  "language_info": {
   "codemirror_mode": {
    "name": "ipython",
    "version": 3
   },
   "file_extension": ".py",
   "mimetype": "text/x-python",
   "name": "python",
   "nbconvert_exporter": "python",
   "pygments_lexer": "ipython3",
   "version": "3.8.8"
  }
 },
 "nbformat": 4,
 "nbformat_minor": 5
}

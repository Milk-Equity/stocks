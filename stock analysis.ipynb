{
 "cells": [
  {
   "cell_type": "code",
   "execution_count": 5,
   "id": "0f816b03",
   "metadata": {},
   "outputs": [],
   "source": [
    "import pandas as pd\n",
    "import matplotlib as plt\n",
    "from alpha_vantage.timeseries import TimeSeries\n",
    "import time\n",
    "import json"
   ]
  },
  {
   "cell_type": "code",
   "execution_count": 3,
   "id": "79b86df5",
   "metadata": {},
   "outputs": [],
   "source": [
    "#import quandl\n",
    "#quandl.ApiConfig.api_key = 'VDCe-Sck1jKwogtfPBtN'\n",
    "#quandl.ApiConfig.verify_ssl = False\n",
    "#data = quandl.get_table('WIKI', ticker='AAPL')"
   ]
  },
  {
   "cell_type": "code",
   "execution_count": 15,
   "id": "6966a06c",
   "metadata": {},
   "outputs": [],
   "source": [
    "api_key = '7DOY154L31ZDC2PG'"
   ]
  },
  {
   "cell_type": "markdown",
   "id": "cd3cc72b",
   "metadata": {},
   "source": [
    "Stock Call Function"
   ]
  },
  {
   "cell_type": "code",
   "execution_count": 87,
   "id": "17e16e5a",
   "metadata": {},
   "outputs": [],
   "source": [
    "def stock(ticker):\n",
    "    ticker = ticker.upper()\n",
    "    ts = TimeSeries(key='7DOY154L31ZDC2PG', output_format='pandas')\n",
    "    data, meta_data = ts.get_daily_adjusted(symbol=ticker, outputsize='full')\n",
    "    df = pd.DataFrame(data)\n",
    "        \n",
    "    # Set the index to a column called Date\n",
    "    df = df.reset_index(level=0)\n",
    "    df = df.rename(columns={\"5. adjusted close\": \"Adj. Close\",\n",
    "                        \"adjHigh\": \"Adj. High\",\n",
    "                        \"adjLow\": \"Adj. Low\",\n",
    "                        \"adjOpen\": \"Adj. Open\",\n",
    "                        \"adjVolume\": \"Adj. Volume\",\n",
    "                        \"4. close\": \"Close\",\n",
    "                        \"date\": \"Date\",\n",
    "                        \"7. dividend amount\": \"Dividend\",\n",
    "                        \"2. high\": \"High\",\n",
    "                        \"3. low\": \"Low\",\n",
    "                        \"1. open\": \"Open\",\n",
    "                        \"8. split coefficient\": \"Split Ratio\",\n",
    "                        \"6. volume\": \"Volume\"})\n",
    "\n",
    "    # Columns required for prophet\n",
    "    #df['ds'] = df['Date']\n",
    "    #df['y'] = df['Adj. Close']\n",
    "        \n",
    "\n",
    "    df['Daily Change'] = df['Adj. Close'] - df['Open']\n",
    "   \n",
    "    min_date = min(df['Date'])\n",
    "    max_date = max(df['Date'])\n",
    "   \n",
    "    orig_len = df.size\n",
    "    print('{} Stock Initialized. Data covers {} to {}. Length is {}.'.format(ticker,min_date,max_date, orig_len))\n",
    "\n",
    "    return df"
   ]
  },
  {
   "cell_type": "code",
   "execution_count": 88,
   "id": "61984921",
   "metadata": {},
   "outputs": [
    {
     "name": "stdout",
     "output_type": "stream",
     "text": [
      "AAPL Stock Initialized. Data covers 1999-11-01 00:00:00 to 2021-11-12 00:00:00. Length is 55460.\n"
     ]
    }
   ],
   "source": [
    "apple = stock('aapl')"
   ]
  },
  {
   "cell_type": "code",
   "execution_count": 89,
   "id": "fe5b8ee5",
   "metadata": {
    "scrolled": true
   },
   "outputs": [
    {
     "data": {
      "text/plain": [
       "Index(['Date', 'Open', 'High', 'Low', 'Close', 'Adj. Close', 'Volume',\n",
       "       'Dividend', 'Split Ratio', 'Daily Change'],\n",
       "      dtype='object')"
      ]
     },
     "execution_count": 89,
     "metadata": {},
     "output_type": "execute_result"
    }
   ],
   "source": [
    "apple.columns"
   ]
  },
  {
   "cell_type": "code",
   "execution_count": 90,
   "id": "a87f6a16",
   "metadata": {},
   "outputs": [
    {
     "data": {
      "text/html": [
       "<div>\n",
       "<style scoped>\n",
       "    .dataframe tbody tr th:only-of-type {\n",
       "        vertical-align: middle;\n",
       "    }\n",
       "\n",
       "    .dataframe tbody tr th {\n",
       "        vertical-align: top;\n",
       "    }\n",
       "\n",
       "    .dataframe thead th {\n",
       "        text-align: right;\n",
       "    }\n",
       "</style>\n",
       "<table border=\"1\" class=\"dataframe\">\n",
       "  <thead>\n",
       "    <tr style=\"text-align: right;\">\n",
       "      <th></th>\n",
       "      <th>Date</th>\n",
       "      <th>Open</th>\n",
       "      <th>High</th>\n",
       "      <th>Low</th>\n",
       "      <th>Close</th>\n",
       "      <th>Adj. Close</th>\n",
       "      <th>Volume</th>\n",
       "      <th>Dividend</th>\n",
       "      <th>Split Ratio</th>\n",
       "      <th>Daily Change</th>\n",
       "    </tr>\n",
       "  </thead>\n",
       "  <tbody>\n",
       "    <tr>\n",
       "      <th>0</th>\n",
       "      <td>2021-11-12</td>\n",
       "      <td>148.43</td>\n",
       "      <td>150.400</td>\n",
       "      <td>147.4800</td>\n",
       "      <td>149.99</td>\n",
       "      <td>149.99</td>\n",
       "      <td>63245197.0</td>\n",
       "      <td>0.0</td>\n",
       "      <td>1.0</td>\n",
       "      <td>1.56</td>\n",
       "    </tr>\n",
       "    <tr>\n",
       "      <th>1</th>\n",
       "      <td>2021-11-11</td>\n",
       "      <td>148.96</td>\n",
       "      <td>149.430</td>\n",
       "      <td>147.6810</td>\n",
       "      <td>147.87</td>\n",
       "      <td>147.87</td>\n",
       "      <td>40999950.0</td>\n",
       "      <td>0.0</td>\n",
       "      <td>1.0</td>\n",
       "      <td>-1.09</td>\n",
       "    </tr>\n",
       "    <tr>\n",
       "      <th>2</th>\n",
       "      <td>2021-11-10</td>\n",
       "      <td>150.02</td>\n",
       "      <td>150.130</td>\n",
       "      <td>147.8500</td>\n",
       "      <td>147.92</td>\n",
       "      <td>147.92</td>\n",
       "      <td>65187092.0</td>\n",
       "      <td>0.0</td>\n",
       "      <td>1.0</td>\n",
       "      <td>-2.10</td>\n",
       "    </tr>\n",
       "    <tr>\n",
       "      <th>3</th>\n",
       "      <td>2021-11-09</td>\n",
       "      <td>150.20</td>\n",
       "      <td>151.428</td>\n",
       "      <td>150.0601</td>\n",
       "      <td>150.81</td>\n",
       "      <td>150.81</td>\n",
       "      <td>56573449.0</td>\n",
       "      <td>0.0</td>\n",
       "      <td>1.0</td>\n",
       "      <td>0.61</td>\n",
       "    </tr>\n",
       "    <tr>\n",
       "      <th>4</th>\n",
       "      <td>2021-11-08</td>\n",
       "      <td>151.41</td>\n",
       "      <td>151.570</td>\n",
       "      <td>150.1600</td>\n",
       "      <td>150.44</td>\n",
       "      <td>150.44</td>\n",
       "      <td>55020868.0</td>\n",
       "      <td>0.0</td>\n",
       "      <td>1.0</td>\n",
       "      <td>-0.97</td>\n",
       "    </tr>\n",
       "  </tbody>\n",
       "</table>\n",
       "</div>"
      ],
      "text/plain": [
       "        Date    Open     High       Low   Close  Adj. Close      Volume  \\\n",
       "0 2021-11-12  148.43  150.400  147.4800  149.99      149.99  63245197.0   \n",
       "1 2021-11-11  148.96  149.430  147.6810  147.87      147.87  40999950.0   \n",
       "2 2021-11-10  150.02  150.130  147.8500  147.92      147.92  65187092.0   \n",
       "3 2021-11-09  150.20  151.428  150.0601  150.81      150.81  56573449.0   \n",
       "4 2021-11-08  151.41  151.570  150.1600  150.44      150.44  55020868.0   \n",
       "\n",
       "   Dividend  Split Ratio  Daily Change  \n",
       "0       0.0          1.0          1.56  \n",
       "1       0.0          1.0         -1.09  \n",
       "2       0.0          1.0         -2.10  \n",
       "3       0.0          1.0          0.61  \n",
       "4       0.0          1.0         -0.97  "
      ]
     },
     "execution_count": 90,
     "metadata": {},
     "output_type": "execute_result"
    }
   ],
   "source": [
    "apple.head()"
   ]
  },
  {
   "cell_type": "markdown",
   "id": "77c70614",
   "metadata": {},
   "source": [
    "Making Chart Call"
   ]
  },
  {
   "cell_type": "code",
   "execution_count": null,
   "id": "a4587d7b",
   "metadata": {},
   "outputs": [],
   "source": [
    "#tesla.plot_stock(stats = ['Daily Change', 'Adj. Volume'],  plot_type='pct')"
   ]
  },
  {
   "cell_type": "code",
   "execution_count": null,
   "id": "e03dd144",
   "metadata": {},
   "outputs": [],
   "source": [
    "    def plot_stock(self, start_date=None, end_date=None, stats=['Adj. Close'], plot_type='basic'):\n",
    "        \n",
    "        self.reset_plot()\n",
    "        \n",
    "        if start_date is None:\n",
    "            start_date = self.min_date\n",
    "        if end_date is None:\n",
    "            end_date = self.max_date\n",
    "        \n",
    "        stock_plot = self.make_df(start_date, end_date)\n",
    "\n",
    "        colors = ['r', 'b', 'g', 'y', 'c', 'm']\n",
    "        \n",
    "        for i, stat in enumerate(stats):\n",
    "            \n",
    "            stat_min = min(stock_plot[stat])\n",
    "            stat_max = max(stock_plot[stat])\n",
    "\n",
    "            stat_avg = np.mean(stock_plot[stat])\n",
    "            \n",
    "            date_stat_min = stock_plot[stock_plot[stat] == stat_min]['Date']\n",
    "            date_stat_min = date_stat_min[date_stat_min.index[0]]\n",
    "            date_stat_max = stock_plot[stock_plot[stat] == stat_max]['Date']\n",
    "            date_stat_max = date_stat_max[date_stat_max.index[0]]\n",
    "            \n",
    "            print('Maximum {} = {:.2f} on {}.'.format(stat, stat_max, date_stat_max))\n",
    "            print('Minimum {} = {:.2f} on {}.'.format(stat, stat_min, date_stat_min))\n",
    "            print('Current {} = {:.2f} on {}.\\n'.format(stat, self.stock.loc[self.stock.index[-1], stat], self.max_date))\n",
    "            \n",
    "            # Percentage y-axis\n",
    "            if plot_type == 'pct':\n",
    "                # Simple Plot \n",
    "                plt.style.use('fivethirtyeight');\n",
    "                if stat == 'Daily Change':\n",
    "                    plt.plot(stock_plot['Date'], 100 * stock_plot[stat],\n",
    "                         color = colors[i], linewidth = 2.4, alpha = 0.9,\n",
    "                         label = stat)\n",
    "                else:\n",
    "                    plt.plot(stock_plot['Date'], 100 * (stock_plot[stat] -  stat_avg) / stat_avg,\n",
    "                         color = colors[i], linewidth = 2.4, alpha = 0.9,\n",
    "                         label = stat)\n",
    "\n",
    "                plt.xlabel('Date'); plt.ylabel('Change Relative to Average (%)'); plt.title('%s Stock History' % self.symbol); \n",
    "                plt.legend(prop={'size':10})\n",
    "                plt.grid(color = 'k', alpha = 0.4); \n",
    "\n",
    "            # Stat y-axis\n",
    "            elif plot_type == 'basic':\n",
    "                plt.style.use('fivethirtyeight');\n",
    "                plt.plot(stock_plot['Date'], stock_plot[stat], color = colors[i], linewidth = 3, label = stat, alpha = 0.8)\n",
    "                plt.xlabel('Date'); plt.ylabel('US $'); plt.title('%s Stock History' % self.symbol); \n",
    "                plt.legend(prop={'size':10})\n",
    "                plt.grid(color = 'k', alpha = 0.4); \n",
    "      \n",
    "        plt.show();"
   ]
  },
  {
   "cell_type": "code",
   "execution_count": null,
   "id": "a41371e8",
   "metadata": {},
   "outputs": [],
   "source": [
    "def plot(start_data=None, end_date=None, stats)"
   ]
  }
 ],
 "metadata": {
  "kernelspec": {
   "display_name": "Python 3",
   "language": "python",
   "name": "python3"
  },
  "language_info": {
   "codemirror_mode": {
    "name": "ipython",
    "version": 3
   },
   "file_extension": ".py",
   "mimetype": "text/x-python",
   "name": "python",
   "nbconvert_exporter": "python",
   "pygments_lexer": "ipython3",
   "version": "3.8.8"
  }
 },
 "nbformat": 4,
 "nbformat_minor": 5
}
